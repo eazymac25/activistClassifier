{
 "cells": [
  {
   "cell_type": "code",
   "execution_count": 1,
   "metadata": {
    "collapsed": false
   },
   "outputs": [],
   "source": [
    "%matplotlib inline\n",
    "import pandas as pd\n",
    "import numpy as np\n",
    "import matplotlib.pyplot as plt\n",
    "import spacy as sp\n",
    "import seaborn as sns"
   ]
  },
  {
   "cell_type": "markdown",
   "metadata": {},
   "source": [
    "# Problem Statement: \n",
    "\n",
    "The goal of this data anlaysis is to accurately attribute the type of proposal (Director Election, Spin-Off, Stock Split, etc.) based on the metadata surrounding each proposal and to accurately predict how the proxy voter voted based on the metadata from the data collected for RBC for the 2015 fiscal year. "
   ]
  },
  {
   "cell_type": "markdown",
   "metadata": {},
   "source": [
    "## Activist Investors Data Analysis"
   ]
  },
  {
   "cell_type": "markdown",
   "metadata": {},
   "source": [
    "#### Load the Data"
   ]
  },
  {
   "cell_type": "markdown",
   "metadata": {},
   "source": [
    "- First step is to load the csv data into a data frame"
   ]
  },
  {
   "cell_type": "code",
   "execution_count": 2,
   "metadata": {
    "collapsed": true
   },
   "outputs": [],
   "source": [
    "data = pd.read_csv('training.csv')"
   ]
  },
  {
   "cell_type": "code",
   "execution_count": 3,
   "metadata": {
    "collapsed": false
   },
   "outputs": [
    {
     "data": {
      "text/html": [
       "<div>\n",
       "<table border=\"1\" class=\"dataframe\">\n",
       "  <thead>\n",
       "    <tr style=\"text-align: right;\">\n",
       "      <th></th>\n",
       "      <th>Asset Manager</th>\n",
       "      <th>Company</th>\n",
       "      <th>Year</th>\n",
       "      <th>Ticker</th>\n",
       "      <th>Meeting Date</th>\n",
       "      <th>Meeting Type</th>\n",
       "      <th>Security ID</th>\n",
       "      <th># Management Proposals</th>\n",
       "      <th>Proposal</th>\n",
       "      <th>Bucket</th>\n",
       "      <th>Mgt Rec</th>\n",
       "      <th>Vote</th>\n",
       "      <th>TICKER</th>\n",
       "      <th>NAME</th>\n",
       "      <th>CNTRY_OF_DOMICILE</th>\n",
       "    </tr>\n",
       "  </thead>\n",
       "  <tbody>\n",
       "    <tr>\n",
       "      <th>0</th>\n",
       "      <td>RBC Global Asset management</td>\n",
       "      <td>Valeant Pharmaceuticals International Inc.</td>\n",
       "      <td>2015</td>\n",
       "      <td>VRX</td>\n",
       "      <td>5/19/2015</td>\n",
       "      <td>Annual</td>\n",
       "      <td>91911K102</td>\n",
       "      <td>1a</td>\n",
       "      <td>Elect Director Ronald H. Farmer</td>\n",
       "      <td>DIRECTOR</td>\n",
       "      <td>For</td>\n",
       "      <td>For</td>\n",
       "      <td>VRX CN</td>\n",
       "      <td>VALEANT PHARMACEUTICALS INTE</td>\n",
       "      <td>US</td>\n",
       "    </tr>\n",
       "    <tr>\n",
       "      <th>1</th>\n",
       "      <td>RBC Global Asset management</td>\n",
       "      <td>Valeant Pharmaceuticals International Inc.</td>\n",
       "      <td>2015</td>\n",
       "      <td>VRX</td>\n",
       "      <td>5/19/2015</td>\n",
       "      <td>Annual</td>\n",
       "      <td>91911K102</td>\n",
       "      <td>1b</td>\n",
       "      <td>Elect Director Colleen A. Goggins</td>\n",
       "      <td>DIRECTOR</td>\n",
       "      <td>For</td>\n",
       "      <td>For</td>\n",
       "      <td>VRX CN</td>\n",
       "      <td>VALEANT PHARMACEUTICALS INTE</td>\n",
       "      <td>US</td>\n",
       "    </tr>\n",
       "    <tr>\n",
       "      <th>2</th>\n",
       "      <td>RBC Global Asset management</td>\n",
       "      <td>Valeant Pharmaceuticals International Inc.</td>\n",
       "      <td>2015</td>\n",
       "      <td>VRX</td>\n",
       "      <td>5/19/2015</td>\n",
       "      <td>Annual</td>\n",
       "      <td>91911K102</td>\n",
       "      <td>1c</td>\n",
       "      <td>Elect Director Robert A. Ingram</td>\n",
       "      <td>DIRECTOR</td>\n",
       "      <td>For</td>\n",
       "      <td>For</td>\n",
       "      <td>VRX CN</td>\n",
       "      <td>VALEANT PHARMACEUTICALS INTE</td>\n",
       "      <td>US</td>\n",
       "    </tr>\n",
       "    <tr>\n",
       "      <th>3</th>\n",
       "      <td>RBC Global Asset management</td>\n",
       "      <td>Valeant Pharmaceuticals International Inc.</td>\n",
       "      <td>2015</td>\n",
       "      <td>VRX</td>\n",
       "      <td>5/19/2015</td>\n",
       "      <td>Annual</td>\n",
       "      <td>91911K102</td>\n",
       "      <td>1d</td>\n",
       "      <td>Elect Director Anders O. Lonner</td>\n",
       "      <td>DIRECTOR</td>\n",
       "      <td>For</td>\n",
       "      <td>For</td>\n",
       "      <td>VRX CN</td>\n",
       "      <td>VALEANT PHARMACEUTICALS INTE</td>\n",
       "      <td>US</td>\n",
       "    </tr>\n",
       "    <tr>\n",
       "      <th>4</th>\n",
       "      <td>RBC Global Asset management</td>\n",
       "      <td>Valeant Pharmaceuticals International Inc.</td>\n",
       "      <td>2015</td>\n",
       "      <td>VRX</td>\n",
       "      <td>5/19/2015</td>\n",
       "      <td>Annual</td>\n",
       "      <td>91911K102</td>\n",
       "      <td>1e</td>\n",
       "      <td>Elect Director Theo Melas-Kyriazi</td>\n",
       "      <td>DIRECTOR</td>\n",
       "      <td>For</td>\n",
       "      <td>For</td>\n",
       "      <td>VRX CN</td>\n",
       "      <td>VALEANT PHARMACEUTICALS INTE</td>\n",
       "      <td>US</td>\n",
       "    </tr>\n",
       "  </tbody>\n",
       "</table>\n",
       "</div>"
      ],
      "text/plain": [
       "                 Asset Manager                                     Company  \\\n",
       "0  RBC Global Asset management  Valeant Pharmaceuticals International Inc.   \n",
       "1  RBC Global Asset management  Valeant Pharmaceuticals International Inc.   \n",
       "2  RBC Global Asset management  Valeant Pharmaceuticals International Inc.   \n",
       "3  RBC Global Asset management  Valeant Pharmaceuticals International Inc.   \n",
       "4  RBC Global Asset management  Valeant Pharmaceuticals International Inc.   \n",
       "\n",
       "   Year Ticker Meeting Date Meeting Type Security ID # Management Proposals  \\\n",
       "0  2015    VRX    5/19/2015       Annual   91911K102                     1a   \n",
       "1  2015    VRX    5/19/2015       Annual   91911K102                     1b   \n",
       "2  2015    VRX    5/19/2015       Annual   91911K102                     1c   \n",
       "3  2015    VRX    5/19/2015       Annual   91911K102                     1d   \n",
       "4  2015    VRX    5/19/2015       Annual   91911K102                     1e   \n",
       "\n",
       "                            Proposal    Bucket Mgt Rec Vote  TICKER  \\\n",
       "0    Elect Director Ronald H. Farmer  DIRECTOR     For  For  VRX CN   \n",
       "1  Elect Director Colleen A. Goggins  DIRECTOR     For  For  VRX CN   \n",
       "2    Elect Director Robert A. Ingram  DIRECTOR     For  For  VRX CN   \n",
       "3    Elect Director Anders O. Lonner  DIRECTOR     For  For  VRX CN   \n",
       "4  Elect Director Theo Melas-Kyriazi  DIRECTOR     For  For  VRX CN   \n",
       "\n",
       "                           NAME CNTRY_OF_DOMICILE  \n",
       "0  VALEANT PHARMACEUTICALS INTE                US  \n",
       "1  VALEANT PHARMACEUTICALS INTE                US  \n",
       "2  VALEANT PHARMACEUTICALS INTE                US  \n",
       "3  VALEANT PHARMACEUTICALS INTE                US  \n",
       "4  VALEANT PHARMACEUTICALS INTE                US  "
      ]
     },
     "execution_count": 3,
     "metadata": {},
     "output_type": "execute_result"
    }
   ],
   "source": [
    "data.head()"
   ]
  },
  {
   "cell_type": "code",
   "execution_count": 4,
   "metadata": {
    "collapsed": false
   },
   "outputs": [
    {
     "name": "stdout",
     "output_type": "stream",
     "text": [
      "<class 'pandas.core.frame.DataFrame'>\n",
      "RangeIndex: 18290 entries, 0 to 18289\n",
      "Data columns (total 15 columns):\n",
      "Asset Manager             18290 non-null object\n",
      "Company                   18290 non-null object\n",
      "Year                      18290 non-null int64\n",
      "Ticker                    16701 non-null object\n",
      "Meeting Date              18290 non-null object\n",
      "Meeting Type              18290 non-null object\n",
      "Security ID               18290 non-null object\n",
      "# Management Proposals    18284 non-null object\n",
      "Proposal                  17933 non-null object\n",
      "Bucket                    7166 non-null object\n",
      "Mgt Rec                   17929 non-null object\n",
      "Vote                      17912 non-null object\n",
      "TICKER                    18290 non-null object\n",
      "NAME                      18290 non-null object\n",
      "CNTRY_OF_DOMICILE         18290 non-null object\n",
      "dtypes: int64(1), object(14)\n",
      "memory usage: 2.1+ MB\n"
     ]
    }
   ],
   "source": [
    "data.info()"
   ]
  },
  {
   "cell_type": "markdown",
   "metadata": {},
   "source": [
    "- Asset Manager: The asset manager associated with the holdings and the proxy vote (In this case it is entirely RBC)\n",
    "- Company: The company for which the proxy votes were issued\n",
    "- Year: The year the proxy vote happened\n",
    "- Ticker: Ticker symbol for the company\n",
    "- Meeting Date: mm/dd/yyyy for the meeting date of the voting\n",
    "- Meeting Type: Annual/Quarter etc\n",
    "- Security ID: Unique Id for the company\n",
    "- Management Proposals: (1a 2c, etc) The line item in the company release that describes the proposals\n",
    "- Proposal: A label the company uses to describe the proposal (Spin-off, merger, director election)\n",
    "- Bucket: An invented column that standardizes the proposal column (Will need to predict this\n",
    "- Mgt Rec: A variable we can work to predict when we gather more data (States if the management was for or against a proposal \n",
    "- Vote: A categorical variable to predict (Identifies if the proxy voter was for or against the action)\n",
    "- TICKER: Company Ticker\n",
    "- Company Name\n",
    "- CNTRY_OF_DOMICILE: Country of Domicile associated with the company"
   ]
  },
  {
   "cell_type": "markdown",
   "metadata": {},
   "source": [
    "#### Clean the Data"
   ]
  },
  {
   "cell_type": "markdown",
   "metadata": {},
   "source": [
    "- It seems that there are a lot of rows that are identified as shareholder proposals. The keeper of this spreadsheet would put a empty row to delineate when a proposal switches from a management proposal to a Shareholder proposal. We will have to delete these rows and add a flag that identifies if a proposal is from management or a shareholder"
   ]
  },
  {
   "cell_type": "code",
   "execution_count": 5,
   "metadata": {
    "collapsed": false,
    "scrolled": false
   },
   "outputs": [
    {
     "data": {
      "text/html": [
       "<div>\n",
       "<table border=\"1\" class=\"dataframe\">\n",
       "  <thead>\n",
       "    <tr style=\"text-align: right;\">\n",
       "      <th></th>\n",
       "      <th>Asset Manager</th>\n",
       "      <th>Company</th>\n",
       "      <th>Year</th>\n",
       "      <th>Ticker</th>\n",
       "      <th>Meeting Date</th>\n",
       "      <th>Meeting Type</th>\n",
       "      <th>Security ID</th>\n",
       "      <th># Management Proposals</th>\n",
       "      <th>Proposal</th>\n",
       "      <th>Bucket</th>\n",
       "      <th>Mgt Rec</th>\n",
       "      <th>Vote</th>\n",
       "      <th>TICKER</th>\n",
       "      <th>NAME</th>\n",
       "      <th>CNTRY_OF_DOMICILE</th>\n",
       "    </tr>\n",
       "  </thead>\n",
       "  <tbody>\n",
       "    <tr>\n",
       "      <th>119</th>\n",
       "      <td>RBC Global Asset management</td>\n",
       "      <td>Potash Corporation of Saskatchewan Inc.</td>\n",
       "      <td>2015</td>\n",
       "      <td>POT</td>\n",
       "      <td>12/5/2015</td>\n",
       "      <td>Annual/Special</td>\n",
       "      <td>73755L107</td>\n",
       "      <td>Shareholder proposals</td>\n",
       "      <td>NaN</td>\n",
       "      <td>NaN</td>\n",
       "      <td>NaN</td>\n",
       "      <td>NaN</td>\n",
       "      <td>POT CN</td>\n",
       "      <td>POTASH CORP OF SASKATCHEWAN</td>\n",
       "      <td>CA</td>\n",
       "    </tr>\n",
       "    <tr>\n",
       "      <th>252</th>\n",
       "      <td>RBC Global Asset management</td>\n",
       "      <td>Freeport-McMoRan Inc.</td>\n",
       "      <td>2015</td>\n",
       "      <td>FCX</td>\n",
       "      <td>10/6/2015</td>\n",
       "      <td>Annual</td>\n",
       "      <td>35671D857</td>\n",
       "      <td>Shareholder proposals</td>\n",
       "      <td>NaN</td>\n",
       "      <td>NaN</td>\n",
       "      <td>NaN</td>\n",
       "      <td>NaN</td>\n",
       "      <td>FCX US</td>\n",
       "      <td>FREEPORT-MCMORAN INC</td>\n",
       "      <td>US</td>\n",
       "    </tr>\n",
       "    <tr>\n",
       "      <th>268</th>\n",
       "      <td>RBC Global Asset management</td>\n",
       "      <td>General Motors Company</td>\n",
       "      <td>2015</td>\n",
       "      <td>GM</td>\n",
       "      <td>9/6/2015</td>\n",
       "      <td>Annual</td>\n",
       "      <td>37045V100</td>\n",
       "      <td>Shareholder proposals</td>\n",
       "      <td>NaN</td>\n",
       "      <td>NaN</td>\n",
       "      <td>NaN</td>\n",
       "      <td>NaN</td>\n",
       "      <td>GM US</td>\n",
       "      <td>GENERAL MOTORS CO</td>\n",
       "      <td>US</td>\n",
       "    </tr>\n",
       "    <tr>\n",
       "      <th>287</th>\n",
       "      <td>RBC Global Asset management</td>\n",
       "      <td>Actavis plc</td>\n",
       "      <td>2015</td>\n",
       "      <td>ACT</td>\n",
       "      <td>5/6/2015</td>\n",
       "      <td>Annual</td>\n",
       "      <td>G0083B108</td>\n",
       "      <td>Shareholder proposals</td>\n",
       "      <td>NaN</td>\n",
       "      <td>NaN</td>\n",
       "      <td>NaN</td>\n",
       "      <td>NaN</td>\n",
       "      <td>AGN US</td>\n",
       "      <td>ALLERGAN PLC</td>\n",
       "      <td>US</td>\n",
       "    </tr>\n",
       "    <tr>\n",
       "      <th>308</th>\n",
       "      <td>RBC Global Asset management</td>\n",
       "      <td>Wal-Mart Stores Inc.</td>\n",
       "      <td>2015</td>\n",
       "      <td>WMT</td>\n",
       "      <td>5/6/2015</td>\n",
       "      <td>Annual</td>\n",
       "      <td>931142103</td>\n",
       "      <td>Shareholder proposals</td>\n",
       "      <td>NaN</td>\n",
       "      <td>NaN</td>\n",
       "      <td>NaN</td>\n",
       "      <td>NaN</td>\n",
       "      <td>WMT US</td>\n",
       "      <td>WAL-MART STORES INC</td>\n",
       "      <td>US</td>\n",
       "    </tr>\n",
       "  </tbody>\n",
       "</table>\n",
       "</div>"
      ],
      "text/plain": [
       "                   Asset Manager                                  Company  \\\n",
       "119  RBC Global Asset management  Potash Corporation of Saskatchewan Inc.   \n",
       "252  RBC Global Asset management                    Freeport-McMoRan Inc.   \n",
       "268  RBC Global Asset management                   General Motors Company   \n",
       "287  RBC Global Asset management                              Actavis plc   \n",
       "308  RBC Global Asset management                     Wal-Mart Stores Inc.   \n",
       "\n",
       "     Year Ticker Meeting Date    Meeting Type Security ID  \\\n",
       "119  2015    POT    12/5/2015  Annual/Special   73755L107   \n",
       "252  2015    FCX    10/6/2015          Annual   35671D857   \n",
       "268  2015     GM     9/6/2015          Annual   37045V100   \n",
       "287  2015    ACT     5/6/2015          Annual   G0083B108   \n",
       "308  2015    WMT     5/6/2015          Annual   931142103   \n",
       "\n",
       "    # Management Proposals Proposal Bucket Mgt Rec Vote  TICKER  \\\n",
       "119  Shareholder proposals      NaN    NaN     NaN  NaN  POT CN   \n",
       "252  Shareholder proposals      NaN    NaN     NaN  NaN  FCX US   \n",
       "268  Shareholder proposals      NaN    NaN     NaN  NaN   GM US   \n",
       "287  Shareholder proposals      NaN    NaN     NaN  NaN  AGN US   \n",
       "308  Shareholder proposals      NaN    NaN     NaN  NaN  WMT US   \n",
       "\n",
       "                            NAME CNTRY_OF_DOMICILE  \n",
       "119  POTASH CORP OF SASKATCHEWAN                CA  \n",
       "252         FREEPORT-MCMORAN INC                US  \n",
       "268            GENERAL MOTORS CO                US  \n",
       "287                 ALLERGAN PLC                US  \n",
       "308          WAL-MART STORES INC                US  "
      ]
     },
     "execution_count": 5,
     "metadata": {},
     "output_type": "execute_result"
    }
   ],
   "source": [
    "data[data['Proposal'].isnull()].head()"
   ]
  },
  {
   "cell_type": "code",
   "execution_count": 6,
   "metadata": {
    "collapsed": false
   },
   "outputs": [],
   "source": [
    "# create a series to hold the flag for management proposal or shareholder proposal\n",
    "s = pd.Series(index = data.index,name = 'flag')\n",
    "# set a variable to store the current company\n",
    "company = ''\n",
    "# set a variable to store the current proposal flag\n",
    "flag = ''\n",
    "'''Loop over every row in the data frame\n",
    "   and flag the proposal type\n",
    "'''\n",
    "for i,row in data.iterrows():\n",
    "#   If the proposal contains nan (aka a float type) set the company and the flag \n",
    "    if type(row.Proposal) == float:\n",
    "        company = row.Company\n",
    "        flag = row['# Management Proposals']\n",
    "#   If the company set equals the current rows company set the index in the series to the proposal type\n",
    "    if row.Company == company:\n",
    "        s[i]=flag\n",
    "#   else reset the company when the current company doesn't equal the set company\n",
    "    elif company != '':\n",
    "        company = ''\n",
    "#   finally when the company is reset the company has changed and now the proposals are management proposals     \n",
    "    if company == '':\n",
    "        s[i] = 'Management Proposal'"
   ]
  },
  {
   "cell_type": "code",
   "execution_count": 7,
   "metadata": {
    "collapsed": false
   },
   "outputs": [
    {
     "data": {
      "text/plain": [
       "'Shareholder proposals'"
      ]
     },
     "execution_count": 7,
     "metadata": {},
     "output_type": "execute_result"
    }
   ],
   "source": [
    "s[120] # index 120 should have a shareholder proposal type"
   ]
  },
  {
   "cell_type": "code",
   "execution_count": 8,
   "metadata": {
    "collapsed": true
   },
   "outputs": [],
   "source": [
    "data['flag'] = s # pull in the flag row into the data frame"
   ]
  },
  {
   "cell_type": "code",
   "execution_count": 9,
   "metadata": {
    "collapsed": false
   },
   "outputs": [
    {
     "data": {
      "text/html": [
       "<div>\n",
       "<table border=\"1\" class=\"dataframe\">\n",
       "  <thead>\n",
       "    <tr style=\"text-align: right;\">\n",
       "      <th></th>\n",
       "      <th>Asset Manager</th>\n",
       "      <th>Company</th>\n",
       "      <th>Year</th>\n",
       "      <th>Ticker</th>\n",
       "      <th>Meeting Date</th>\n",
       "      <th>Meeting Type</th>\n",
       "      <th>Security ID</th>\n",
       "      <th># Management Proposals</th>\n",
       "      <th>Proposal</th>\n",
       "      <th>Bucket</th>\n",
       "      <th>Mgt Rec</th>\n",
       "      <th>Vote</th>\n",
       "      <th>TICKER</th>\n",
       "      <th>NAME</th>\n",
       "      <th>CNTRY_OF_DOMICILE</th>\n",
       "      <th>flag</th>\n",
       "    </tr>\n",
       "  </thead>\n",
       "  <tbody>\n",
       "    <tr>\n",
       "      <th>0</th>\n",
       "      <td>RBC Global Asset management</td>\n",
       "      <td>Valeant Pharmaceuticals International Inc.</td>\n",
       "      <td>2015</td>\n",
       "      <td>VRX</td>\n",
       "      <td>5/19/2015</td>\n",
       "      <td>Annual</td>\n",
       "      <td>91911K102</td>\n",
       "      <td>1a</td>\n",
       "      <td>Elect Director Ronald H. Farmer</td>\n",
       "      <td>DIRECTOR</td>\n",
       "      <td>For</td>\n",
       "      <td>For</td>\n",
       "      <td>VRX CN</td>\n",
       "      <td>VALEANT PHARMACEUTICALS INTE</td>\n",
       "      <td>US</td>\n",
       "      <td>Management Proposal</td>\n",
       "    </tr>\n",
       "    <tr>\n",
       "      <th>1</th>\n",
       "      <td>RBC Global Asset management</td>\n",
       "      <td>Valeant Pharmaceuticals International Inc.</td>\n",
       "      <td>2015</td>\n",
       "      <td>VRX</td>\n",
       "      <td>5/19/2015</td>\n",
       "      <td>Annual</td>\n",
       "      <td>91911K102</td>\n",
       "      <td>1b</td>\n",
       "      <td>Elect Director Colleen A. Goggins</td>\n",
       "      <td>DIRECTOR</td>\n",
       "      <td>For</td>\n",
       "      <td>For</td>\n",
       "      <td>VRX CN</td>\n",
       "      <td>VALEANT PHARMACEUTICALS INTE</td>\n",
       "      <td>US</td>\n",
       "      <td>Management Proposal</td>\n",
       "    </tr>\n",
       "    <tr>\n",
       "      <th>2</th>\n",
       "      <td>RBC Global Asset management</td>\n",
       "      <td>Valeant Pharmaceuticals International Inc.</td>\n",
       "      <td>2015</td>\n",
       "      <td>VRX</td>\n",
       "      <td>5/19/2015</td>\n",
       "      <td>Annual</td>\n",
       "      <td>91911K102</td>\n",
       "      <td>1c</td>\n",
       "      <td>Elect Director Robert A. Ingram</td>\n",
       "      <td>DIRECTOR</td>\n",
       "      <td>For</td>\n",
       "      <td>For</td>\n",
       "      <td>VRX CN</td>\n",
       "      <td>VALEANT PHARMACEUTICALS INTE</td>\n",
       "      <td>US</td>\n",
       "      <td>Management Proposal</td>\n",
       "    </tr>\n",
       "    <tr>\n",
       "      <th>3</th>\n",
       "      <td>RBC Global Asset management</td>\n",
       "      <td>Valeant Pharmaceuticals International Inc.</td>\n",
       "      <td>2015</td>\n",
       "      <td>VRX</td>\n",
       "      <td>5/19/2015</td>\n",
       "      <td>Annual</td>\n",
       "      <td>91911K102</td>\n",
       "      <td>1d</td>\n",
       "      <td>Elect Director Anders O. Lonner</td>\n",
       "      <td>DIRECTOR</td>\n",
       "      <td>For</td>\n",
       "      <td>For</td>\n",
       "      <td>VRX CN</td>\n",
       "      <td>VALEANT PHARMACEUTICALS INTE</td>\n",
       "      <td>US</td>\n",
       "      <td>Management Proposal</td>\n",
       "    </tr>\n",
       "    <tr>\n",
       "      <th>4</th>\n",
       "      <td>RBC Global Asset management</td>\n",
       "      <td>Valeant Pharmaceuticals International Inc.</td>\n",
       "      <td>2015</td>\n",
       "      <td>VRX</td>\n",
       "      <td>5/19/2015</td>\n",
       "      <td>Annual</td>\n",
       "      <td>91911K102</td>\n",
       "      <td>1e</td>\n",
       "      <td>Elect Director Theo Melas-Kyriazi</td>\n",
       "      <td>DIRECTOR</td>\n",
       "      <td>For</td>\n",
       "      <td>For</td>\n",
       "      <td>VRX CN</td>\n",
       "      <td>VALEANT PHARMACEUTICALS INTE</td>\n",
       "      <td>US</td>\n",
       "      <td>Management Proposal</td>\n",
       "    </tr>\n",
       "  </tbody>\n",
       "</table>\n",
       "</div>"
      ],
      "text/plain": [
       "                 Asset Manager                                     Company  \\\n",
       "0  RBC Global Asset management  Valeant Pharmaceuticals International Inc.   \n",
       "1  RBC Global Asset management  Valeant Pharmaceuticals International Inc.   \n",
       "2  RBC Global Asset management  Valeant Pharmaceuticals International Inc.   \n",
       "3  RBC Global Asset management  Valeant Pharmaceuticals International Inc.   \n",
       "4  RBC Global Asset management  Valeant Pharmaceuticals International Inc.   \n",
       "\n",
       "   Year Ticker Meeting Date Meeting Type Security ID # Management Proposals  \\\n",
       "0  2015    VRX    5/19/2015       Annual   91911K102                     1a   \n",
       "1  2015    VRX    5/19/2015       Annual   91911K102                     1b   \n",
       "2  2015    VRX    5/19/2015       Annual   91911K102                     1c   \n",
       "3  2015    VRX    5/19/2015       Annual   91911K102                     1d   \n",
       "4  2015    VRX    5/19/2015       Annual   91911K102                     1e   \n",
       "\n",
       "                            Proposal    Bucket Mgt Rec Vote  TICKER  \\\n",
       "0    Elect Director Ronald H. Farmer  DIRECTOR     For  For  VRX CN   \n",
       "1  Elect Director Colleen A. Goggins  DIRECTOR     For  For  VRX CN   \n",
       "2    Elect Director Robert A. Ingram  DIRECTOR     For  For  VRX CN   \n",
       "3    Elect Director Anders O. Lonner  DIRECTOR     For  For  VRX CN   \n",
       "4  Elect Director Theo Melas-Kyriazi  DIRECTOR     For  For  VRX CN   \n",
       "\n",
       "                           NAME CNTRY_OF_DOMICILE                 flag  \n",
       "0  VALEANT PHARMACEUTICALS INTE                US  Management Proposal  \n",
       "1  VALEANT PHARMACEUTICALS INTE                US  Management Proposal  \n",
       "2  VALEANT PHARMACEUTICALS INTE                US  Management Proposal  \n",
       "3  VALEANT PHARMACEUTICALS INTE                US  Management Proposal  \n",
       "4  VALEANT PHARMACEUTICALS INTE                US  Management Proposal  "
      ]
     },
     "execution_count": 9,
     "metadata": {},
     "output_type": "execute_result"
    }
   ],
   "source": [
    "data.head() # verify the flag row exits"
   ]
  },
  {
   "cell_type": "markdown",
   "metadata": {},
   "source": [
    "- Now that the proposal flag has been pulled into a separate column we will need to get rid of the rows that have delineated the beginning of a shareholder proposal section."
   ]
  },
  {
   "cell_type": "code",
   "execution_count": 10,
   "metadata": {
    "collapsed": false,
    "scrolled": true
   },
   "outputs": [
    {
     "data": {
      "text/plain": [
       "True"
      ]
     },
     "execution_count": 10,
     "metadata": {},
     "output_type": "execute_result"
    }
   ],
   "source": [
    "np.isnan(data[data['# Management Proposals'].isnull()].iloc[1]['Proposal']) # Identify proposal delineation rows"
   ]
  },
  {
   "cell_type": "code",
   "execution_count": 11,
   "metadata": {
    "collapsed": true
   },
   "outputs": [],
   "source": [
    "df = data.dropna(subset=['Proposal']) # drop any rows that contain NaN values in the Proposals column"
   ]
  },
  {
   "cell_type": "markdown",
   "metadata": {},
   "source": [
    "- It also looks like the Bucket column for the training set contains some empty values"
   ]
  },
  {
   "cell_type": "code",
   "execution_count": 12,
   "metadata": {
    "collapsed": false
   },
   "outputs": [
    {
     "data": {
      "text/html": [
       "<div>\n",
       "<table border=\"1\" class=\"dataframe\">\n",
       "  <thead>\n",
       "    <tr style=\"text-align: right;\">\n",
       "      <th></th>\n",
       "      <th>Asset Manager</th>\n",
       "      <th>Company</th>\n",
       "      <th>Year</th>\n",
       "      <th>Ticker</th>\n",
       "      <th>Meeting Date</th>\n",
       "      <th>Meeting Type</th>\n",
       "      <th>Security ID</th>\n",
       "      <th># Management Proposals</th>\n",
       "      <th>Proposal</th>\n",
       "      <th>Bucket</th>\n",
       "      <th>Mgt Rec</th>\n",
       "      <th>Vote</th>\n",
       "      <th>TICKER</th>\n",
       "      <th>NAME</th>\n",
       "      <th>CNTRY_OF_DOMICILE</th>\n",
       "      <th>flag</th>\n",
       "    </tr>\n",
       "  </thead>\n",
       "  <tbody>\n",
       "    <tr>\n",
       "      <th>605</th>\n",
       "      <td>RBC Global Asset management</td>\n",
       "      <td>Crescent Point Energy Corp.</td>\n",
       "      <td>2015</td>\n",
       "      <td>CPG</td>\n",
       "      <td>7/5/2015</td>\n",
       "      <td>Annual/Special</td>\n",
       "      <td>22576C101</td>\n",
       "      <td>4</td>\n",
       "      <td>Amend Restricted Share Bonus Plan</td>\n",
       "      <td>NaN</td>\n",
       "      <td>For</td>\n",
       "      <td>For</td>\n",
       "      <td>CPG CN</td>\n",
       "      <td>CRESCENT POINT ENERGY CORP</td>\n",
       "      <td>CA</td>\n",
       "      <td>Management Proposal</td>\n",
       "    </tr>\n",
       "    <tr>\n",
       "      <th>1053</th>\n",
       "      <td>RBC Global Asset management</td>\n",
       "      <td>GLG Life Tech Corporation</td>\n",
       "      <td>2015</td>\n",
       "      <td>GLG</td>\n",
       "      <td>6/26/2015</td>\n",
       "      <td>Annual</td>\n",
       "      <td>361793201</td>\n",
       "      <td>3</td>\n",
       "      <td>Approve Davidson &amp; Company LLP as Auditors and...</td>\n",
       "      <td>NaN</td>\n",
       "      <td>For</td>\n",
       "      <td>For</td>\n",
       "      <td>GLG CN</td>\n",
       "      <td>GLG LIFE TECH CORP</td>\n",
       "      <td>CA</td>\n",
       "      <td>Management Proposal</td>\n",
       "    </tr>\n",
       "    <tr>\n",
       "      <th>1062</th>\n",
       "      <td>RBC Global Asset management</td>\n",
       "      <td>The Intertain Group Limited</td>\n",
       "      <td>2015</td>\n",
       "      <td>IT</td>\n",
       "      <td>6/25/2015</td>\n",
       "      <td>Annual/Special</td>\n",
       "      <td>46111Q101</td>\n",
       "      <td>2</td>\n",
       "      <td>Approve BDO LLP as Auditors and Authorize Boar...</td>\n",
       "      <td>NaN</td>\n",
       "      <td>For</td>\n",
       "      <td>Withhold</td>\n",
       "      <td>IT CN</td>\n",
       "      <td>INTERTAIN GROUP LTD/THE</td>\n",
       "      <td>CA</td>\n",
       "      <td>Management Proposal</td>\n",
       "    </tr>\n",
       "    <tr>\n",
       "      <th>1063</th>\n",
       "      <td>RBC Global Asset management</td>\n",
       "      <td>The Intertain Group Limited</td>\n",
       "      <td>2015</td>\n",
       "      <td>IT</td>\n",
       "      <td>6/25/2015</td>\n",
       "      <td>Annual/Special</td>\n",
       "      <td>46111Q101</td>\n",
       "      <td>3</td>\n",
       "      <td>Approve Stock Option Plan</td>\n",
       "      <td>NaN</td>\n",
       "      <td>For</td>\n",
       "      <td>Against</td>\n",
       "      <td>IT CN</td>\n",
       "      <td>INTERTAIN GROUP LTD/THE</td>\n",
       "      <td>CA</td>\n",
       "      <td>Management Proposal</td>\n",
       "    </tr>\n",
       "    <tr>\n",
       "      <th>1064</th>\n",
       "      <td>RBC Global Asset management</td>\n",
       "      <td>The Intertain Group Limited</td>\n",
       "      <td>2015</td>\n",
       "      <td>IT</td>\n",
       "      <td>6/25/2015</td>\n",
       "      <td>Annual/Special</td>\n",
       "      <td>46111Q101</td>\n",
       "      <td>4</td>\n",
       "      <td>Amend Bylaws</td>\n",
       "      <td>NaN</td>\n",
       "      <td>For</td>\n",
       "      <td>For</td>\n",
       "      <td>IT CN</td>\n",
       "      <td>INTERTAIN GROUP LTD/THE</td>\n",
       "      <td>CA</td>\n",
       "      <td>Management Proposal</td>\n",
       "    </tr>\n",
       "  </tbody>\n",
       "</table>\n",
       "</div>"
      ],
      "text/plain": [
       "                    Asset Manager                      Company  Year Ticker  \\\n",
       "605   RBC Global Asset management  Crescent Point Energy Corp.  2015    CPG   \n",
       "1053  RBC Global Asset management    GLG Life Tech Corporation  2015    GLG   \n",
       "1062  RBC Global Asset management  The Intertain Group Limited  2015     IT   \n",
       "1063  RBC Global Asset management  The Intertain Group Limited  2015     IT   \n",
       "1064  RBC Global Asset management  The Intertain Group Limited  2015     IT   \n",
       "\n",
       "     Meeting Date    Meeting Type Security ID # Management Proposals  \\\n",
       "605      7/5/2015  Annual/Special   22576C101                      4   \n",
       "1053    6/26/2015          Annual   361793201                      3   \n",
       "1062    6/25/2015  Annual/Special   46111Q101                      2   \n",
       "1063    6/25/2015  Annual/Special   46111Q101                      3   \n",
       "1064    6/25/2015  Annual/Special   46111Q101                      4   \n",
       "\n",
       "                                               Proposal Bucket Mgt Rec  \\\n",
       "605                   Amend Restricted Share Bonus Plan    NaN     For   \n",
       "1053  Approve Davidson & Company LLP as Auditors and...    NaN     For   \n",
       "1062  Approve BDO LLP as Auditors and Authorize Boar...    NaN     For   \n",
       "1063                          Approve Stock Option Plan    NaN     For   \n",
       "1064                                       Amend Bylaws    NaN     For   \n",
       "\n",
       "          Vote  TICKER                        NAME CNTRY_OF_DOMICILE  \\\n",
       "605        For  CPG CN  CRESCENT POINT ENERGY CORP                CA   \n",
       "1053       For  GLG CN          GLG LIFE TECH CORP                CA   \n",
       "1062  Withhold   IT CN     INTERTAIN GROUP LTD/THE                CA   \n",
       "1063   Against   IT CN     INTERTAIN GROUP LTD/THE                CA   \n",
       "1064       For   IT CN     INTERTAIN GROUP LTD/THE                CA   \n",
       "\n",
       "                     flag  \n",
       "605   Management Proposal  \n",
       "1053  Management Proposal  \n",
       "1062  Management Proposal  \n",
       "1063  Management Proposal  \n",
       "1064  Management Proposal  "
      ]
     },
     "execution_count": 12,
     "metadata": {},
     "output_type": "execute_result"
    }
   ],
   "source": [
    "df[df['Bucket'].isnull()].head()"
   ]
  },
  {
   "cell_type": "markdown",
   "metadata": {},
   "source": [
    "Looks like there are about 7000 for training the label classifier"
   ]
  },
  {
   "cell_type": "code",
   "execution_count": 13,
   "metadata": {
    "collapsed": false
   },
   "outputs": [
    {
     "name": "stdout",
     "output_type": "stream",
     "text": [
      "Without Bucket:10767 With Bucket:7166\n"
     ]
    }
   ],
   "source": [
    "print 'Without Bucket:' + str(len(df[df['Bucket'].isnull()])), 'With Bucket:' + str(len(df[df['Bucket'].notnull()]))"
   ]
  },
  {
   "cell_type": "markdown",
   "metadata": {},
   "source": [
    "#### Explore the Data"
   ]
  },
  {
   "cell_type": "markdown",
   "metadata": {},
   "source": [
    "- How many different companies are there under the data from RBC?\n",
    "    - Looks like there are about 1500 with Gazprom OAO being the most prominent"
   ]
  },
  {
   "cell_type": "code",
   "execution_count": 14,
   "metadata": {
    "collapsed": false
   },
   "outputs": [
    {
     "name": "stdout",
     "output_type": "stream",
     "text": [
      "Total Number of Companies: 1479\n"
     ]
    },
    {
     "data": {
      "text/html": [
       "<div>\n",
       "<table border=\"1\" class=\"dataframe\">\n",
       "  <thead>\n",
       "    <tr style=\"text-align: right;\">\n",
       "      <th></th>\n",
       "      <th>Company</th>\n",
       "    </tr>\n",
       "    <tr>\n",
       "      <th>Company</th>\n",
       "      <th></th>\n",
       "    </tr>\n",
       "  </thead>\n",
       "  <tbody>\n",
       "    <tr>\n",
       "      <th>Gazprom OAO</th>\n",
       "      <td>133</td>\n",
       "    </tr>\n",
       "    <tr>\n",
       "      <th>China Construction Bank Corporation</th>\n",
       "      <td>93</td>\n",
       "    </tr>\n",
       "    <tr>\n",
       "      <th>Gazprom Oao Moscow</th>\n",
       "      <td>67</td>\n",
       "    </tr>\n",
       "    <tr>\n",
       "      <th>Skandinaviska Enskilda Banken</th>\n",
       "      <td>50</td>\n",
       "    </tr>\n",
       "    <tr>\n",
       "      <th>China Merchants Bank Co Ltd</th>\n",
       "      <td>47</td>\n",
       "    </tr>\n",
       "    <tr>\n",
       "      <th>Paddy Power plc</th>\n",
       "      <td>47</td>\n",
       "    </tr>\n",
       "    <tr>\n",
       "      <th>Acs Actividades de Construccion y Servicios S.A</th>\n",
       "      <td>43</td>\n",
       "    </tr>\n",
       "    <tr>\n",
       "      <th>Imperial Holdings Ltd</th>\n",
       "      <td>42</td>\n",
       "    </tr>\n",
       "    <tr>\n",
       "      <th>Chartwell Retirement Residences</th>\n",
       "      <td>38</td>\n",
       "    </tr>\n",
       "    <tr>\n",
       "      <th>Yamazaki Baking Co.Ltd.</th>\n",
       "      <td>38</td>\n",
       "    </tr>\n",
       "  </tbody>\n",
       "</table>\n",
       "</div>"
      ],
      "text/plain": [
       "                                                 Company\n",
       "Company                                                 \n",
       "Gazprom OAO                                          133\n",
       "China Construction Bank Corporation                   93\n",
       "Gazprom Oao Moscow                                    67\n",
       "Skandinaviska Enskilda Banken                         50\n",
       "China Merchants Bank Co Ltd                           47\n",
       "Paddy Power plc                                       47\n",
       "Acs Actividades de Construccion y Servicios S.A       43\n",
       "Imperial Holdings Ltd                                 42\n",
       "Chartwell Retirement Residences                       38\n",
       "Yamazaki Baking Co.Ltd.                               38"
      ]
     },
     "execution_count": 14,
     "metadata": {},
     "output_type": "execute_result"
    }
   ],
   "source": [
    "#List all the companies in the data frame\n",
    "print 'Total Number of Companies: ' + str(len(df['Company'].unique()))\n",
    "df[['Company']].groupby(df['Company']).count().sort_values('Company',ascending=False).head(10)"
   ]
  },
  {
   "cell_type": "markdown",
   "metadata": {},
   "source": [
    "- What about the distribution of countries available? \n",
    "    - Looks like it is heavily tailed to North American Countries"
   ]
  },
  {
   "cell_type": "code",
   "execution_count": 15,
   "metadata": {
    "collapsed": false
   },
   "outputs": [
    {
     "name": "stdout",
     "output_type": "stream",
     "text": [
      "Number of unique countries: 54\n",
      "List of countries: US,CA,#N/A Invalid Security,JP,GB,TW,NL,DE,HK,AU,CH,FR,ES,AR,ID,CN,KR,PH,RU,ZA,IN,MY,JO,TH,GE,IM,PT,FI,IT,IE,JE,IL,SG,BM,AT,NO,MO,SE,PL,CL,LU,NZ,DK,MX,GR,BR,MT,BE,TR,QA,EG,PE,CO,AE\n"
     ]
    },
    {
     "data": {
      "text/html": [
       "<div>\n",
       "<table border=\"1\" class=\"dataframe\">\n",
       "  <thead>\n",
       "    <tr style=\"text-align: right;\">\n",
       "      <th></th>\n",
       "      <th>CNTRY_OF_DOMICILE</th>\n",
       "    </tr>\n",
       "    <tr>\n",
       "      <th>CNTRY_OF_DOMICILE</th>\n",
       "      <th></th>\n",
       "    </tr>\n",
       "  </thead>\n",
       "  <tbody>\n",
       "    <tr>\n",
       "      <th>US</th>\n",
       "      <td>5203</td>\n",
       "    </tr>\n",
       "    <tr>\n",
       "      <th>CA</th>\n",
       "      <td>2342</td>\n",
       "    </tr>\n",
       "    <tr>\n",
       "      <th>JP</th>\n",
       "      <td>2255</td>\n",
       "    </tr>\n",
       "    <tr>\n",
       "      <th>#N/A Invalid Security</th>\n",
       "      <td>1538</td>\n",
       "    </tr>\n",
       "    <tr>\n",
       "      <th>GB</th>\n",
       "      <td>1075</td>\n",
       "    </tr>\n",
       "    <tr>\n",
       "      <th>CN</th>\n",
       "      <td>476</td>\n",
       "    </tr>\n",
       "    <tr>\n",
       "      <th>CH</th>\n",
       "      <td>397</td>\n",
       "    </tr>\n",
       "    <tr>\n",
       "      <th>ZA</th>\n",
       "      <td>389</td>\n",
       "    </tr>\n",
       "    <tr>\n",
       "      <th>FR</th>\n",
       "      <td>388</td>\n",
       "    </tr>\n",
       "    <tr>\n",
       "      <th>TW</th>\n",
       "      <td>311</td>\n",
       "    </tr>\n",
       "    <tr>\n",
       "      <th>RU</th>\n",
       "      <td>285</td>\n",
       "    </tr>\n",
       "    <tr>\n",
       "      <th>ES</th>\n",
       "      <td>284</td>\n",
       "    </tr>\n",
       "    <tr>\n",
       "      <th>HK</th>\n",
       "      <td>276</td>\n",
       "    </tr>\n",
       "    <tr>\n",
       "      <th>AU</th>\n",
       "      <td>246</td>\n",
       "    </tr>\n",
       "    <tr>\n",
       "      <th>DK</th>\n",
       "      <td>225</td>\n",
       "    </tr>\n",
       "    <tr>\n",
       "      <th>SE</th>\n",
       "      <td>207</td>\n",
       "    </tr>\n",
       "    <tr>\n",
       "      <th>NL</th>\n",
       "      <td>200</td>\n",
       "    </tr>\n",
       "    <tr>\n",
       "      <th>KR</th>\n",
       "      <td>193</td>\n",
       "    </tr>\n",
       "    <tr>\n",
       "      <th>FI</th>\n",
       "      <td>169</td>\n",
       "    </tr>\n",
       "    <tr>\n",
       "      <th>DE</th>\n",
       "      <td>158</td>\n",
       "    </tr>\n",
       "    <tr>\n",
       "      <th>TR</th>\n",
       "      <td>155</td>\n",
       "    </tr>\n",
       "    <tr>\n",
       "      <th>IE</th>\n",
       "      <td>146</td>\n",
       "    </tr>\n",
       "    <tr>\n",
       "      <th>IL</th>\n",
       "      <td>138</td>\n",
       "    </tr>\n",
       "    <tr>\n",
       "      <th>PL</th>\n",
       "      <td>84</td>\n",
       "    </tr>\n",
       "    <tr>\n",
       "      <th>CL</th>\n",
       "      <td>65</td>\n",
       "    </tr>\n",
       "    <tr>\n",
       "      <th>ID</th>\n",
       "      <td>63</td>\n",
       "    </tr>\n",
       "    <tr>\n",
       "      <th>SG</th>\n",
       "      <td>56</td>\n",
       "    </tr>\n",
       "    <tr>\n",
       "      <th>IT</th>\n",
       "      <td>53</td>\n",
       "    </tr>\n",
       "    <tr>\n",
       "      <th>NZ</th>\n",
       "      <td>52</td>\n",
       "    </tr>\n",
       "    <tr>\n",
       "      <th>IN</th>\n",
       "      <td>51</td>\n",
       "    </tr>\n",
       "    <tr>\n",
       "      <th>MY</th>\n",
       "      <td>50</td>\n",
       "    </tr>\n",
       "    <tr>\n",
       "      <th>AT</th>\n",
       "      <td>44</td>\n",
       "    </tr>\n",
       "    <tr>\n",
       "      <th>QA</th>\n",
       "      <td>34</td>\n",
       "    </tr>\n",
       "    <tr>\n",
       "      <th>PH</th>\n",
       "      <td>32</td>\n",
       "    </tr>\n",
       "    <tr>\n",
       "      <th>NO</th>\n",
       "      <td>30</td>\n",
       "    </tr>\n",
       "    <tr>\n",
       "      <th>TH</th>\n",
       "      <td>27</td>\n",
       "    </tr>\n",
       "    <tr>\n",
       "      <th>MX</th>\n",
       "      <td>27</td>\n",
       "    </tr>\n",
       "    <tr>\n",
       "      <th>BE</th>\n",
       "      <td>26</td>\n",
       "    </tr>\n",
       "    <tr>\n",
       "      <th>JO</th>\n",
       "      <td>23</td>\n",
       "    </tr>\n",
       "    <tr>\n",
       "      <th>LU</th>\n",
       "      <td>22</td>\n",
       "    </tr>\n",
       "    <tr>\n",
       "      <th>IM</th>\n",
       "      <td>19</td>\n",
       "    </tr>\n",
       "    <tr>\n",
       "      <th>GE</th>\n",
       "      <td>18</td>\n",
       "    </tr>\n",
       "    <tr>\n",
       "      <th>BR</th>\n",
       "      <td>17</td>\n",
       "    </tr>\n",
       "    <tr>\n",
       "      <th>MO</th>\n",
       "      <td>15</td>\n",
       "    </tr>\n",
       "    <tr>\n",
       "      <th>BM</th>\n",
       "      <td>12</td>\n",
       "    </tr>\n",
       "    <tr>\n",
       "      <th>EG</th>\n",
       "      <td>10</td>\n",
       "    </tr>\n",
       "    <tr>\n",
       "      <th>PT</th>\n",
       "      <td>9</td>\n",
       "    </tr>\n",
       "    <tr>\n",
       "      <th>AE</th>\n",
       "      <td>8</td>\n",
       "    </tr>\n",
       "    <tr>\n",
       "      <th>CO</th>\n",
       "      <td>8</td>\n",
       "    </tr>\n",
       "    <tr>\n",
       "      <th>JE</th>\n",
       "      <td>7</td>\n",
       "    </tr>\n",
       "    <tr>\n",
       "      <th>AR</th>\n",
       "      <td>6</td>\n",
       "    </tr>\n",
       "    <tr>\n",
       "      <th>MT</th>\n",
       "      <td>4</td>\n",
       "    </tr>\n",
       "    <tr>\n",
       "      <th>PE</th>\n",
       "      <td>3</td>\n",
       "    </tr>\n",
       "    <tr>\n",
       "      <th>GR</th>\n",
       "      <td>2</td>\n",
       "    </tr>\n",
       "  </tbody>\n",
       "</table>\n",
       "</div>"
      ],
      "text/plain": [
       "                       CNTRY_OF_DOMICILE\n",
       "CNTRY_OF_DOMICILE                       \n",
       "US                                  5203\n",
       "CA                                  2342\n",
       "JP                                  2255\n",
       "#N/A Invalid Security               1538\n",
       "GB                                  1075\n",
       "CN                                   476\n",
       "CH                                   397\n",
       "ZA                                   389\n",
       "FR                                   388\n",
       "TW                                   311\n",
       "RU                                   285\n",
       "ES                                   284\n",
       "HK                                   276\n",
       "AU                                   246\n",
       "DK                                   225\n",
       "SE                                   207\n",
       "NL                                   200\n",
       "KR                                   193\n",
       "FI                                   169\n",
       "DE                                   158\n",
       "TR                                   155\n",
       "IE                                   146\n",
       "IL                                   138\n",
       "PL                                    84\n",
       "CL                                    65\n",
       "ID                                    63\n",
       "SG                                    56\n",
       "IT                                    53\n",
       "NZ                                    52\n",
       "IN                                    51\n",
       "MY                                    50\n",
       "AT                                    44\n",
       "QA                                    34\n",
       "PH                                    32\n",
       "NO                                    30\n",
       "TH                                    27\n",
       "MX                                    27\n",
       "BE                                    26\n",
       "JO                                    23\n",
       "LU                                    22\n",
       "IM                                    19\n",
       "GE                                    18\n",
       "BR                                    17\n",
       "MO                                    15\n",
       "BM                                    12\n",
       "EG                                    10\n",
       "PT                                     9\n",
       "AE                                     8\n",
       "CO                                     8\n",
       "JE                                     7\n",
       "AR                                     6\n",
       "MT                                     4\n",
       "PE                                     3\n",
       "GR                                     2"
      ]
     },
     "execution_count": 15,
     "metadata": {},
     "output_type": "execute_result"
    }
   ],
   "source": [
    "print 'Number of unique countries: ' + str(df['CNTRY_OF_DOMICILE'].nunique())\n",
    "print 'List of countries: ' + str(','.join(df['CNTRY_OF_DOMICILE'].unique()))\n",
    "df[['CNTRY_OF_DOMICILE']].groupby(df['CNTRY_OF_DOMICILE']).count().sort_values('CNTRY_OF_DOMICILE',ascending=False)"
   ]
  },
  {
   "cell_type": "markdown",
   "metadata": {},
   "source": [
    "- How about years?"
   ]
  },
  {
   "cell_type": "code",
   "execution_count": 16,
   "metadata": {
    "collapsed": false
   },
   "outputs": [
    {
     "data": {
      "text/html": [
       "<div>\n",
       "<table border=\"1\" class=\"dataframe\">\n",
       "  <thead>\n",
       "    <tr style=\"text-align: right;\">\n",
       "      <th></th>\n",
       "      <th>Year</th>\n",
       "    </tr>\n",
       "    <tr>\n",
       "      <th>Year</th>\n",
       "      <th></th>\n",
       "    </tr>\n",
       "  </thead>\n",
       "  <tbody>\n",
       "    <tr>\n",
       "      <th>2015</th>\n",
       "      <td>12128</td>\n",
       "    </tr>\n",
       "    <tr>\n",
       "      <th>2016</th>\n",
       "      <td>5805</td>\n",
       "    </tr>\n",
       "  </tbody>\n",
       "</table>\n",
       "</div>"
      ],
      "text/plain": [
       "       Year\n",
       "Year       \n",
       "2015  12128\n",
       "2016   5805"
      ]
     },
     "execution_count": 16,
     "metadata": {},
     "output_type": "execute_result"
    }
   ],
   "source": [
    "df[['Year']].groupby(df['Year']).count().sort_values('Year',ascending=False).head(10)"
   ]
  },
  {
   "cell_type": "markdown",
   "metadata": {},
   "source": [
    "- Graph because we can:"
   ]
  },
  {
   "cell_type": "code",
   "execution_count": 17,
   "metadata": {
    "collapsed": false
   },
   "outputs": [
    {
     "data": {
      "image/png": "[encoded data removed]",
      "text/plain": [
       "<matplotlib.figure.Figure at 0x1112fccd0>"
      ]
     },
     "metadata": {},
     "output_type": "display_data"
    }
   ],
   "source": [
    "df['Year'].hist();"
   ]
  },
  {
   "cell_type": "markdown",
   "metadata": {},
   "source": [
    "- What about meeting type?\n",
    "    - It looks like the majority of meetings fall under some type of annual meeting\n",
    "    - It is a tailed distribution like country"
   ]
  },
  {
   "cell_type": "code",
   "execution_count": 18,
   "metadata": {
    "collapsed": false
   },
   "outputs": [
    {
     "data": {
      "text/html": [
       "<div>\n",
       "<table border=\"1\" class=\"dataframe\">\n",
       "  <thead>\n",
       "    <tr style=\"text-align: right;\">\n",
       "      <th></th>\n",
       "      <th>Meeting Type</th>\n",
       "    </tr>\n",
       "    <tr>\n",
       "      <th>Meeting Type</th>\n",
       "      <th></th>\n",
       "    </tr>\n",
       "  </thead>\n",
       "  <tbody>\n",
       "    <tr>\n",
       "      <th>Annual</th>\n",
       "      <td>13915</td>\n",
       "    </tr>\n",
       "    <tr>\n",
       "      <th>Annual/Special</th>\n",
       "      <td>1399</td>\n",
       "    </tr>\n",
       "    <tr>\n",
       "      <th>Annual General Meeting</th>\n",
       "      <td>1390</td>\n",
       "    </tr>\n",
       "    <tr>\n",
       "      <th>Special</th>\n",
       "      <td>619</td>\n",
       "    </tr>\n",
       "    <tr>\n",
       "      <th>Annual and Special Meeting</th>\n",
       "      <td>238</td>\n",
       "    </tr>\n",
       "    <tr>\n",
       "      <th>Proxy Contest</th>\n",
       "      <td>92</td>\n",
       "    </tr>\n",
       "    <tr>\n",
       "      <th>Annual &amp; Special Mtg</th>\n",
       "      <td>81</td>\n",
       "    </tr>\n",
       "    <tr>\n",
       "      <th>ExtraOrdinary General Meeting</th>\n",
       "      <td>78</td>\n",
       "    </tr>\n",
       "    <tr>\n",
       "      <th>Ordinary General Meeting</th>\n",
       "      <td>61</td>\n",
       "    </tr>\n",
       "    <tr>\n",
       "      <th>G68673113</th>\n",
       "      <td>17</td>\n",
       "    </tr>\n",
       "  </tbody>\n",
       "</table>\n",
       "</div>"
      ],
      "text/plain": [
       "                               Meeting Type\n",
       "Meeting Type                               \n",
       "Annual                                13915\n",
       "Annual/Special                         1399\n",
       "Annual General Meeting                 1390\n",
       "Special                                 619\n",
       "Annual and Special Meeting              238\n",
       "Proxy Contest                            92\n",
       "Annual & Special Mtg                     81\n",
       "ExtraOrdinary General Meeting            78\n",
       "Ordinary General Meeting                 61\n",
       "G68673113                                17"
      ]
     },
     "execution_count": 18,
     "metadata": {},
     "output_type": "execute_result"
    },
    {
     "data": {
      "image/png": "[encoded data removed]",
      "text/plain": [
       "<matplotlib.figure.Figure at 0x111284850>"
      ]
     },
     "metadata": {},
     "output_type": "display_data"
    }
   ],
   "source": [
    "df['Meeting Type'].value_counts().plot(kind='bar');\n",
    "df[['Meeting Type']].groupby(df['Meeting Type']).count().sort_values('Meeting Type',ascending=False).head(10)"
   ]
  },
  {
   "cell_type": "code",
   "execution_count": 19,
   "metadata": {
    "collapsed": false
   },
   "outputs": [
    {
     "data": {
      "image/png": "[encoded data removed]",
      "text/plain": [
       "<matplotlib.figure.Figure at 0x1045ba290>"
      ]
     },
     "metadata": {},
     "output_type": "display_data"
    }
   ],
   "source": [
    "# df[['CNTRY_OF_DOMICILE']].groupby(df['CNTRY_OF_DOMICILE']).count().\\\n",
    "# sort_values('CNTRY_OF_DOMICILE',ascending=False).plot(kind='bar')\n",
    "df.CNTRY_OF_DOMICILE.value_counts().plot(kind='bar');"
   ]
  },
  {
   "cell_type": "markdown",
   "metadata": {},
   "source": [
    "#### Create Training Set\n",
    "- This will only include rows that have a value in the bucket column as we will be training off the the bucket column"
   ]
  },
  {
   "cell_type": "code",
   "execution_count": 20,
   "metadata": {
    "collapsed": false
   },
   "outputs": [],
   "source": [
    "train = df.dropna(subset=['Bucket'])"
   ]
  },
  {
   "cell_type": "markdown",
   "metadata": {},
   "source": [
    "- Looks like the distribution of countries has stayed the same"
   ]
  },
  {
   "cell_type": "code",
   "execution_count": 21,
   "metadata": {
    "collapsed": false
   },
   "outputs": [
    {
     "data": {
      "text/plain": [
       "CNTRY_OF_DOMICILE\n",
       "US                       3347\n",
       "CA                       1727\n",
       "JP                       1111\n",
       "#N/A Invalid Security     713\n",
       "IE                         53\n",
       "CH                         27\n",
       "GB                         23\n",
       "HK                         20\n",
       "FI                         15\n",
       "CN                         15\n",
       "DE                         14\n",
       "FR                         12\n",
       "NL                         10\n",
       "AU                          9\n",
       "ID                          7\n",
       "AR                          6\n",
       "JE                          6\n",
       "DK                          6\n",
       "CO                          5\n",
       "TR                          5\n",
       "TH                          4\n",
       "SG                          4\n",
       "BE                          3\n",
       "ES                          3\n",
       "SE                          3\n",
       "MY                          3\n",
       "IL                          2\n",
       "IN                          2\n",
       "CL                          2\n",
       "PL                          1\n",
       "RU                          1\n",
       "IT                          1\n",
       "QA                          1\n",
       "LU                          1\n",
       "BR                          1\n",
       "MO                          1\n",
       "MX                          1\n",
       "PE                          1\n",
       "dtype: int64"
      ]
     },
     "execution_count": 21,
     "metadata": {},
     "output_type": "execute_result"
    }
   ],
   "source": [
    "train.groupby('CNTRY_OF_DOMICILE').size().sort_values(ascending=False)"
   ]
  },
  {
   "cell_type": "markdown",
   "metadata": {},
   "source": [
    "- Different Countries have different proposal and proxy rules...\n",
    "    - Let's stick to what we know (the US) and filter the data to the US"
   ]
  },
  {
   "cell_type": "code",
   "execution_count": 22,
   "metadata": {
    "collapsed": true
   },
   "outputs": [],
   "source": [
    "train = train[train['CNTRY_OF_DOMICILE']=='US']"
   ]
  },
  {
   "cell_type": "code",
   "execution_count": 23,
   "metadata": {
    "collapsed": false
   },
   "outputs": [
    {
     "data": {
      "text/plain": [
       "3347"
      ]
     },
     "execution_count": 23,
     "metadata": {},
     "output_type": "execute_result"
    }
   ],
   "source": [
    "len(train)"
   ]
  },
  {
   "cell_type": "markdown",
   "metadata": {},
   "source": [
    "- Now, we need to get insight into the distribution of the available labels in our training set to help bucket the proposal types"
   ]
  },
  {
   "cell_type": "code",
   "execution_count": 24,
   "metadata": {
    "collapsed": false
   },
   "outputs": [
    {
     "data": {
      "image/png": "[encoded data removed]",
      "text/plain": [
       "<matplotlib.figure.Figure at 0x113bfea50>"
      ]
     },
     "metadata": {},
     "output_type": "display_data"
    }
   ],
   "source": [
    "train.Bucket.value_counts().plot(kind='bar');"
   ]
  },
  {
   "cell_type": "markdown",
   "metadata": {},
   "source": [
    "#### Label Analysis\n",
    "- Safe to say... I don't like the looks of that.\n",
    "- The distribution shows that most of these data is labeled as Director\n",
    "- I will need to label a more diverse set to train my categorization algorithm against the proposal type. \n",
    "\n",
    "#### Predict Management Recommendation and Vote Direction\n",
    "Let's look at the data in a different way:\n",
    "\n",
    "We need to predict how the management will vote based on metadata attributed to each proposal. \n",
    "\n",
    "Let's see if we can gather some extra categorical dummy variables and graph the correlations"
   ]
  },
  {
   "cell_type": "code",
   "execution_count": 25,
   "metadata": {
    "collapsed": false
   },
   "outputs": [],
   "source": [
    "dum = pd.get_dummies(train.flag)\n",
    "train[dum.columns]=dum"
   ]
  },
  {
   "cell_type": "code",
   "execution_count": 26,
   "metadata": {
    "collapsed": false
   },
   "outputs": [
    {
     "data": {
      "text/html": [
       "<div>\n",
       "<table border=\"1\" class=\"dataframe\">\n",
       "  <thead>\n",
       "    <tr style=\"text-align: right;\">\n",
       "      <th></th>\n",
       "      <th>Asset Manager</th>\n",
       "      <th>Company</th>\n",
       "      <th>Year</th>\n",
       "      <th>Ticker</th>\n",
       "      <th>Meeting Date</th>\n",
       "      <th>Meeting Type</th>\n",
       "      <th>Security ID</th>\n",
       "      <th># Management Proposals</th>\n",
       "      <th>Proposal</th>\n",
       "      <th>Bucket</th>\n",
       "      <th>Mgt Rec</th>\n",
       "      <th>Vote</th>\n",
       "      <th>TICKER</th>\n",
       "      <th>NAME</th>\n",
       "      <th>CNTRY_OF_DOMICILE</th>\n",
       "      <th>flag</th>\n",
       "      <th>Dissident Proxy (Blue Card)</th>\n",
       "      <th>Management Proposal</th>\n",
       "      <th>Management proposals</th>\n",
       "      <th>Shareholder proposals</th>\n",
       "    </tr>\n",
       "  </thead>\n",
       "  <tbody>\n",
       "    <tr>\n",
       "      <th>0</th>\n",
       "      <td>RBC Global Asset management</td>\n",
       "      <td>Valeant Pharmaceuticals International Inc.</td>\n",
       "      <td>2015</td>\n",
       "      <td>VRX</td>\n",
       "      <td>5/19/2015</td>\n",
       "      <td>Annual</td>\n",
       "      <td>91911K102</td>\n",
       "      <td>1a</td>\n",
       "      <td>Elect Director Ronald H. Farmer</td>\n",
       "      <td>DIRECTOR</td>\n",
       "      <td>For</td>\n",
       "      <td>For</td>\n",
       "      <td>VRX CN</td>\n",
       "      <td>VALEANT PHARMACEUTICALS INTE</td>\n",
       "      <td>US</td>\n",
       "      <td>Management Proposal</td>\n",
       "      <td>0</td>\n",
       "      <td>1</td>\n",
       "      <td>0</td>\n",
       "      <td>0</td>\n",
       "    </tr>\n",
       "    <tr>\n",
       "      <th>1</th>\n",
       "      <td>RBC Global Asset management</td>\n",
       "      <td>Valeant Pharmaceuticals International Inc.</td>\n",
       "      <td>2015</td>\n",
       "      <td>VRX</td>\n",
       "      <td>5/19/2015</td>\n",
       "      <td>Annual</td>\n",
       "      <td>91911K102</td>\n",
       "      <td>1b</td>\n",
       "      <td>Elect Director Colleen A. Goggins</td>\n",
       "      <td>DIRECTOR</td>\n",
       "      <td>For</td>\n",
       "      <td>For</td>\n",
       "      <td>VRX CN</td>\n",
       "      <td>VALEANT PHARMACEUTICALS INTE</td>\n",
       "      <td>US</td>\n",
       "      <td>Management Proposal</td>\n",
       "      <td>0</td>\n",
       "      <td>1</td>\n",
       "      <td>0</td>\n",
       "      <td>0</td>\n",
       "    </tr>\n",
       "    <tr>\n",
       "      <th>2</th>\n",
       "      <td>RBC Global Asset management</td>\n",
       "      <td>Valeant Pharmaceuticals International Inc.</td>\n",
       "      <td>2015</td>\n",
       "      <td>VRX</td>\n",
       "      <td>5/19/2015</td>\n",
       "      <td>Annual</td>\n",
       "      <td>91911K102</td>\n",
       "      <td>1c</td>\n",
       "      <td>Elect Director Robert A. Ingram</td>\n",
       "      <td>DIRECTOR</td>\n",
       "      <td>For</td>\n",
       "      <td>For</td>\n",
       "      <td>VRX CN</td>\n",
       "      <td>VALEANT PHARMACEUTICALS INTE</td>\n",
       "      <td>US</td>\n",
       "      <td>Management Proposal</td>\n",
       "      <td>0</td>\n",
       "      <td>1</td>\n",
       "      <td>0</td>\n",
       "      <td>0</td>\n",
       "    </tr>\n",
       "    <tr>\n",
       "      <th>3</th>\n",
       "      <td>RBC Global Asset management</td>\n",
       "      <td>Valeant Pharmaceuticals International Inc.</td>\n",
       "      <td>2015</td>\n",
       "      <td>VRX</td>\n",
       "      <td>5/19/2015</td>\n",
       "      <td>Annual</td>\n",
       "      <td>91911K102</td>\n",
       "      <td>1d</td>\n",
       "      <td>Elect Director Anders O. Lonner</td>\n",
       "      <td>DIRECTOR</td>\n",
       "      <td>For</td>\n",
       "      <td>For</td>\n",
       "      <td>VRX CN</td>\n",
       "      <td>VALEANT PHARMACEUTICALS INTE</td>\n",
       "      <td>US</td>\n",
       "      <td>Management Proposal</td>\n",
       "      <td>0</td>\n",
       "      <td>1</td>\n",
       "      <td>0</td>\n",
       "      <td>0</td>\n",
       "    </tr>\n",
       "    <tr>\n",
       "      <th>4</th>\n",
       "      <td>RBC Global Asset management</td>\n",
       "      <td>Valeant Pharmaceuticals International Inc.</td>\n",
       "      <td>2015</td>\n",
       "      <td>VRX</td>\n",
       "      <td>5/19/2015</td>\n",
       "      <td>Annual</td>\n",
       "      <td>91911K102</td>\n",
       "      <td>1e</td>\n",
       "      <td>Elect Director Theo Melas-Kyriazi</td>\n",
       "      <td>DIRECTOR</td>\n",
       "      <td>For</td>\n",
       "      <td>For</td>\n",
       "      <td>VRX CN</td>\n",
       "      <td>VALEANT PHARMACEUTICALS INTE</td>\n",
       "      <td>US</td>\n",
       "      <td>Management Proposal</td>\n",
       "      <td>0</td>\n",
       "      <td>1</td>\n",
       "      <td>0</td>\n",
       "      <td>0</td>\n",
       "    </tr>\n",
       "  </tbody>\n",
       "</table>\n",
       "</div>"
      ],
      "text/plain": [
       "                 Asset Manager                                     Company  \\\n",
       "0  RBC Global Asset management  Valeant Pharmaceuticals International Inc.   \n",
       "1  RBC Global Asset management  Valeant Pharmaceuticals International Inc.   \n",
       "2  RBC Global Asset management  Valeant Pharmaceuticals International Inc.   \n",
       "3  RBC Global Asset management  Valeant Pharmaceuticals International Inc.   \n",
       "4  RBC Global Asset management  Valeant Pharmaceuticals International Inc.   \n",
       "\n",
       "   Year Ticker Meeting Date Meeting Type Security ID # Management Proposals  \\\n",
       "0  2015    VRX    5/19/2015       Annual   91911K102                     1a   \n",
       "1  2015    VRX    5/19/2015       Annual   91911K102                     1b   \n",
       "2  2015    VRX    5/19/2015       Annual   91911K102                     1c   \n",
       "3  2015    VRX    5/19/2015       Annual   91911K102                     1d   \n",
       "4  2015    VRX    5/19/2015       Annual   91911K102                     1e   \n",
       "\n",
       "                            Proposal    Bucket Mgt Rec Vote  TICKER  \\\n",
       "0    Elect Director Ronald H. Farmer  DIRECTOR     For  For  VRX CN   \n",
       "1  Elect Director Colleen A. Goggins  DIRECTOR     For  For  VRX CN   \n",
       "2    Elect Director Robert A. Ingram  DIRECTOR     For  For  VRX CN   \n",
       "3    Elect Director Anders O. Lonner  DIRECTOR     For  For  VRX CN   \n",
       "4  Elect Director Theo Melas-Kyriazi  DIRECTOR     For  For  VRX CN   \n",
       "\n",
       "                           NAME CNTRY_OF_DOMICILE                 flag  \\\n",
       "0  VALEANT PHARMACEUTICALS INTE                US  Management Proposal   \n",
       "1  VALEANT PHARMACEUTICALS INTE                US  Management Proposal   \n",
       "2  VALEANT PHARMACEUTICALS INTE                US  Management Proposal   \n",
       "3  VALEANT PHARMACEUTICALS INTE                US  Management Proposal   \n",
       "4  VALEANT PHARMACEUTICALS INTE                US  Management Proposal   \n",
       "\n",
       "   Dissident Proxy (Blue Card)  Management Proposal  Management proposals  \\\n",
       "0                            0                    1                     0   \n",
       "1                            0                    1                     0   \n",
       "2                            0                    1                     0   \n",
       "3                            0                    1                     0   \n",
       "4                            0                    1                     0   \n",
       "\n",
       "   Shareholder proposals  \n",
       "0                      0  \n",
       "1                      0  \n",
       "2                      0  \n",
       "3                      0  \n",
       "4                      0  "
      ]
     },
     "execution_count": 26,
     "metadata": {},
     "output_type": "execute_result"
    }
   ],
   "source": [
    "train.head()"
   ]
  },
  {
   "cell_type": "code",
   "execution_count": 27,
   "metadata": {
    "collapsed": false
   },
   "outputs": [],
   "source": [
    "mgt= pd.get_dummies(train['Mgt Rec'],prefix='MGT')"
   ]
  },
  {
   "cell_type": "code",
   "execution_count": 28,
   "metadata": {
    "collapsed": true
   },
   "outputs": [],
   "source": [
    "vote = pd.get_dummies(train['Vote'],prefix='VOTE')"
   ]
  },
  {
   "cell_type": "code",
   "execution_count": 29,
   "metadata": {
    "collapsed": true
   },
   "outputs": [],
   "source": [
    "train[mgt.columns] = mgt\n",
    "train[vote.columns] = vote"
   ]
  },
  {
   "cell_type": "code",
   "execution_count": 30,
   "metadata": {
    "collapsed": false
   },
   "outputs": [
    {
     "data": {
      "text/html": [
       "<div>\n",
       "<table border=\"1\" class=\"dataframe\">\n",
       "  <thead>\n",
       "    <tr style=\"text-align: right;\">\n",
       "      <th></th>\n",
       "      <th>Asset Manager</th>\n",
       "      <th>Company</th>\n",
       "      <th>Year</th>\n",
       "      <th>Ticker</th>\n",
       "      <th>Meeting Date</th>\n",
       "      <th>Meeting Type</th>\n",
       "      <th>Security ID</th>\n",
       "      <th># Management Proposals</th>\n",
       "      <th>Proposal</th>\n",
       "      <th>Bucket</th>\n",
       "      <th>...</th>\n",
       "      <th>Management Proposal</th>\n",
       "      <th>Management proposals</th>\n",
       "      <th>Shareholder proposals</th>\n",
       "      <th>MGT_Against</th>\n",
       "      <th>MGT_For</th>\n",
       "      <th>MGT_None</th>\n",
       "      <th>VOTE_Against</th>\n",
       "      <th>VOTE_Did Not Vote</th>\n",
       "      <th>VOTE_For</th>\n",
       "      <th>VOTE_Withhold</th>\n",
       "    </tr>\n",
       "  </thead>\n",
       "  <tbody>\n",
       "    <tr>\n",
       "      <th>0</th>\n",
       "      <td>RBC Global Asset management</td>\n",
       "      <td>Valeant Pharmaceuticals International Inc.</td>\n",
       "      <td>2015</td>\n",
       "      <td>VRX</td>\n",
       "      <td>5/19/2015</td>\n",
       "      <td>Annual</td>\n",
       "      <td>91911K102</td>\n",
       "      <td>1a</td>\n",
       "      <td>Elect Director Ronald H. Farmer</td>\n",
       "      <td>DIRECTOR</td>\n",
       "      <td>...</td>\n",
       "      <td>1</td>\n",
       "      <td>0</td>\n",
       "      <td>0</td>\n",
       "      <td>0</td>\n",
       "      <td>1</td>\n",
       "      <td>0</td>\n",
       "      <td>0</td>\n",
       "      <td>0</td>\n",
       "      <td>1</td>\n",
       "      <td>0</td>\n",
       "    </tr>\n",
       "    <tr>\n",
       "      <th>1</th>\n",
       "      <td>RBC Global Asset management</td>\n",
       "      <td>Valeant Pharmaceuticals International Inc.</td>\n",
       "      <td>2015</td>\n",
       "      <td>VRX</td>\n",
       "      <td>5/19/2015</td>\n",
       "      <td>Annual</td>\n",
       "      <td>91911K102</td>\n",
       "      <td>1b</td>\n",
       "      <td>Elect Director Colleen A. Goggins</td>\n",
       "      <td>DIRECTOR</td>\n",
       "      <td>...</td>\n",
       "      <td>1</td>\n",
       "      <td>0</td>\n",
       "      <td>0</td>\n",
       "      <td>0</td>\n",
       "      <td>1</td>\n",
       "      <td>0</td>\n",
       "      <td>0</td>\n",
       "      <td>0</td>\n",
       "      <td>1</td>\n",
       "      <td>0</td>\n",
       "    </tr>\n",
       "    <tr>\n",
       "      <th>2</th>\n",
       "      <td>RBC Global Asset management</td>\n",
       "      <td>Valeant Pharmaceuticals International Inc.</td>\n",
       "      <td>2015</td>\n",
       "      <td>VRX</td>\n",
       "      <td>5/19/2015</td>\n",
       "      <td>Annual</td>\n",
       "      <td>91911K102</td>\n",
       "      <td>1c</td>\n",
       "      <td>Elect Director Robert A. Ingram</td>\n",
       "      <td>DIRECTOR</td>\n",
       "      <td>...</td>\n",
       "      <td>1</td>\n",
       "      <td>0</td>\n",
       "      <td>0</td>\n",
       "      <td>0</td>\n",
       "      <td>1</td>\n",
       "      <td>0</td>\n",
       "      <td>0</td>\n",
       "      <td>0</td>\n",
       "      <td>1</td>\n",
       "      <td>0</td>\n",
       "    </tr>\n",
       "    <tr>\n",
       "      <th>3</th>\n",
       "      <td>RBC Global Asset management</td>\n",
       "      <td>Valeant Pharmaceuticals International Inc.</td>\n",
       "      <td>2015</td>\n",
       "      <td>VRX</td>\n",
       "      <td>5/19/2015</td>\n",
       "      <td>Annual</td>\n",
       "      <td>91911K102</td>\n",
       "      <td>1d</td>\n",
       "      <td>Elect Director Anders O. Lonner</td>\n",
       "      <td>DIRECTOR</td>\n",
       "      <td>...</td>\n",
       "      <td>1</td>\n",
       "      <td>0</td>\n",
       "      <td>0</td>\n",
       "      <td>0</td>\n",
       "      <td>1</td>\n",
       "      <td>0</td>\n",
       "      <td>0</td>\n",
       "      <td>0</td>\n",
       "      <td>1</td>\n",
       "      <td>0</td>\n",
       "    </tr>\n",
       "    <tr>\n",
       "      <th>4</th>\n",
       "      <td>RBC Global Asset management</td>\n",
       "      <td>Valeant Pharmaceuticals International Inc.</td>\n",
       "      <td>2015</td>\n",
       "      <td>VRX</td>\n",
       "      <td>5/19/2015</td>\n",
       "      <td>Annual</td>\n",
       "      <td>91911K102</td>\n",
       "      <td>1e</td>\n",
       "      <td>Elect Director Theo Melas-Kyriazi</td>\n",
       "      <td>DIRECTOR</td>\n",
       "      <td>...</td>\n",
       "      <td>1</td>\n",
       "      <td>0</td>\n",
       "      <td>0</td>\n",
       "      <td>0</td>\n",
       "      <td>1</td>\n",
       "      <td>0</td>\n",
       "      <td>0</td>\n",
       "      <td>0</td>\n",
       "      <td>1</td>\n",
       "      <td>0</td>\n",
       "    </tr>\n",
       "  </tbody>\n",
       "</table>\n",
       "<p>5 rows × 27 columns</p>\n",
       "</div>"
      ],
      "text/plain": [
       "                 Asset Manager                                     Company  \\\n",
       "0  RBC Global Asset management  Valeant Pharmaceuticals International Inc.   \n",
       "1  RBC Global Asset management  Valeant Pharmaceuticals International Inc.   \n",
       "2  RBC Global Asset management  Valeant Pharmaceuticals International Inc.   \n",
       "3  RBC Global Asset management  Valeant Pharmaceuticals International Inc.   \n",
       "4  RBC Global Asset management  Valeant Pharmaceuticals International Inc.   \n",
       "\n",
       "   Year Ticker Meeting Date Meeting Type Security ID # Management Proposals  \\\n",
       "0  2015    VRX    5/19/2015       Annual   91911K102                     1a   \n",
       "1  2015    VRX    5/19/2015       Annual   91911K102                     1b   \n",
       "2  2015    VRX    5/19/2015       Annual   91911K102                     1c   \n",
       "3  2015    VRX    5/19/2015       Annual   91911K102                     1d   \n",
       "4  2015    VRX    5/19/2015       Annual   91911K102                     1e   \n",
       "\n",
       "                            Proposal    Bucket      ...        \\\n",
       "0    Elect Director Ronald H. Farmer  DIRECTOR      ...         \n",
       "1  Elect Director Colleen A. Goggins  DIRECTOR      ...         \n",
       "2    Elect Director Robert A. Ingram  DIRECTOR      ...         \n",
       "3    Elect Director Anders O. Lonner  DIRECTOR      ...         \n",
       "4  Elect Director Theo Melas-Kyriazi  DIRECTOR      ...         \n",
       "\n",
       "  Management Proposal Management proposals Shareholder proposals MGT_Against  \\\n",
       "0                   1                    0                     0           0   \n",
       "1                   1                    0                     0           0   \n",
       "2                   1                    0                     0           0   \n",
       "3                   1                    0                     0           0   \n",
       "4                   1                    0                     0           0   \n",
       "\n",
       "  MGT_For MGT_None  VOTE_Against  VOTE_Did Not Vote  VOTE_For  VOTE_Withhold  \n",
       "0       1        0             0                  0         1              0  \n",
       "1       1        0             0                  0         1              0  \n",
       "2       1        0             0                  0         1              0  \n",
       "3       1        0             0                  0         1              0  \n",
       "4       1        0             0                  0         1              0  \n",
       "\n",
       "[5 rows x 27 columns]"
      ]
     },
     "execution_count": 30,
     "metadata": {},
     "output_type": "execute_result"
    }
   ],
   "source": [
    "train.head()"
   ]
  },
  {
   "cell_type": "code",
   "execution_count": 31,
   "metadata": {
    "collapsed": false
   },
   "outputs": [],
   "source": [
    "cor = train.corr()"
   ]
  },
  {
   "cell_type": "code",
   "execution_count": 32,
   "metadata": {
    "collapsed": false
   },
   "outputs": [
    {
     "data": {
      "image/png": "[encoded data removed]",
      "text/plain": [
       "<matplotlib.figure.Figure at 0x104562a50>"
      ]
     },
     "metadata": {},
     "output_type": "display_data"
    }
   ],
   "source": [
    "sns.heatmap(cor);"
   ]
  },
  {
   "cell_type": "markdown",
   "metadata": {
    "collapsed": true
   },
   "source": [
    "#### Quick Correlation Heatmap Review\n",
    "\n",
    "It looks like the highest correlations arise when the shareholders make a proposal. The heatmap suggests that management will most likely disagree with a shareholder proposal... Which makes sense. You wouldn't necessarily want shareholders taking control of your board. "
   ]
  },
  {
   "cell_type": "markdown",
   "metadata": {},
   "source": [
    "## Text Classification"
   ]
  },
  {
   "cell_type": "code",
   "execution_count": 33,
   "metadata": {
    "collapsed": false
   },
   "outputs": [],
   "source": [
    "from sklearn.feature_extraction.text import TfidfTransformer\n",
    "from sklearn.feature_extraction.text import TfidfVectorizer\n",
    "from sklearn.model_selection import KFold, cross_val_score, train_test_split\n",
    "from sklearn.naive_bayes import MultinomialNB\n",
    "from sklearn.linear_model import SGDClassifier\n",
    "from sklearn.pipeline import Pipeline"
   ]
  },
  {
   "cell_type": "markdown",
   "metadata": {},
   "source": [
    "We only need to classify on the proposal description and tagged bucket since the descriptions are fairly standard so let's start there for simplicity"
   ]
  },
  {
   "cell_type": "code",
   "execution_count": 34,
   "metadata": {
    "collapsed": true
   },
   "outputs": [],
   "source": [
    "txclf = train[['Proposal','Bucket']]"
   ]
  },
  {
   "cell_type": "code",
   "execution_count": 35,
   "metadata": {
    "collapsed": false
   },
   "outputs": [
    {
     "data": {
      "text/html": [
       "<div>\n",
       "<table border=\"1\" class=\"dataframe\">\n",
       "  <thead>\n",
       "    <tr style=\"text-align: right;\">\n",
       "      <th></th>\n",
       "      <th>Proposal</th>\n",
       "      <th>Bucket</th>\n",
       "    </tr>\n",
       "  </thead>\n",
       "  <tbody>\n",
       "    <tr>\n",
       "      <th>0</th>\n",
       "      <td>Elect Director Ronald H. Farmer</td>\n",
       "      <td>DIRECTOR</td>\n",
       "    </tr>\n",
       "    <tr>\n",
       "      <th>1</th>\n",
       "      <td>Elect Director Colleen A. Goggins</td>\n",
       "      <td>DIRECTOR</td>\n",
       "    </tr>\n",
       "    <tr>\n",
       "      <th>2</th>\n",
       "      <td>Elect Director Robert A. Ingram</td>\n",
       "      <td>DIRECTOR</td>\n",
       "    </tr>\n",
       "    <tr>\n",
       "      <th>3</th>\n",
       "      <td>Elect Director Anders O. Lonner</td>\n",
       "      <td>DIRECTOR</td>\n",
       "    </tr>\n",
       "    <tr>\n",
       "      <th>4</th>\n",
       "      <td>Elect Director Theo Melas-Kyriazi</td>\n",
       "      <td>DIRECTOR</td>\n",
       "    </tr>\n",
       "  </tbody>\n",
       "</table>\n",
       "</div>"
      ],
      "text/plain": [
       "                            Proposal    Bucket\n",
       "0    Elect Director Ronald H. Farmer  DIRECTOR\n",
       "1  Elect Director Colleen A. Goggins  DIRECTOR\n",
       "2    Elect Director Robert A. Ingram  DIRECTOR\n",
       "3    Elect Director Anders O. Lonner  DIRECTOR\n",
       "4  Elect Director Theo Melas-Kyriazi  DIRECTOR"
      ]
     },
     "execution_count": 35,
     "metadata": {},
     "output_type": "execute_result"
    }
   ],
   "source": [
    "txclf.head()"
   ]
  },
  {
   "cell_type": "markdown",
   "metadata": {},
   "source": [
    "Let's split the data into a training set and a test set"
   ]
  },
  {
   "cell_type": "code",
   "execution_count": 36,
   "metadata": {
    "collapsed": true
   },
   "outputs": [],
   "source": [
    "clf_train, clf_test = train_test_split(txclf,test_size=0.4)"
   ]
  },
  {
   "cell_type": "markdown",
   "metadata": {},
   "source": [
    "Create a text vectorizer"
   ]
  },
  {
   "cell_type": "code",
   "execution_count": 37,
   "metadata": {
    "collapsed": false
   },
   "outputs": [],
   "source": [
    "vectorizer = TfidfVectorizer(max_df=0.5,\n",
    "                                 min_df=2, stop_words='english')\n",
    "\n",
    "trans = vectorizer.fit_transform(txclf.Proposal)"
   ]
  },
  {
   "cell_type": "code",
   "execution_count": 38,
   "metadata": {
    "collapsed": false
   },
   "outputs": [
    {
     "data": {
      "text/plain": [
       "(3347, 722)"
      ]
     },
     "execution_count": 38,
     "metadata": {},
     "output_type": "execute_result"
    }
   ],
   "source": [
    "trans.shape"
   ]
  },
  {
   "cell_type": "markdown",
   "metadata": {},
   "source": [
    "Wait but shouldn't we do this in a more extensible way so it's easy for us to add data later? \n",
    "\n",
    "Yes let's make a pipeline!!!"
   ]
  },
  {
   "cell_type": "code",
   "execution_count": 39,
   "metadata": {
    "collapsed": false
   },
   "outputs": [
    {
     "data": {
      "text/plain": [
       "Pipeline(steps=[('vect', CountVectorizer(analyzer=u'word', binary=False, decode_error=u'strict',\n",
       "        dtype=<type 'numpy.int64'>, encoding=u'utf-8', input=u'content',\n",
       "        lowercase=True, max_df=1.0, max_features=None, min_df=1,\n",
       "        ngram_range=(1, 1), preprocessor=None, stop_words=None,\n",
       "        st...     penalty='l2', power_t=0.5, random_state=42, shuffle=True, verbose=0,\n",
       "       warm_start=False))])"
      ]
     },
     "execution_count": 39,
     "metadata": {},
     "output_type": "execute_result"
    }
   ],
   "source": [
    "from sklearn.feature_extraction.text import CountVectorizer\n",
    "from sklearn.feature_extraction.text import TfidfTransformer\n",
    "\n",
    "text_clf = Pipeline([('vect', CountVectorizer()),\n",
    "                     ('tfidf', TfidfTransformer()),\n",
    "                     ('clf', SGDClassifier(loss='hinge', penalty='l2',  \n",
    "                        alpha=1e-3, n_iter=5, random_state=42)),])\n",
    "text_clf.fit(clf_train.Proposal,clf_train.Bucket)"
   ]
  },
  {
   "cell_type": "code",
   "execution_count": 40,
   "metadata": {
    "collapsed": true
   },
   "outputs": [],
   "source": [
    "p =text_clf.predict(clf_train.Proposal)"
   ]
  },
  {
   "cell_type": "code",
   "execution_count": 41,
   "metadata": {
    "collapsed": false
   },
   "outputs": [
    {
     "name": "stdout",
     "output_type": "stream",
     "text": [
      "2008 2008\n"
     ]
    }
   ],
   "source": [
    "print len(p), len(clf_train)"
   ]
  },
  {
   "cell_type": "code",
   "execution_count": 42,
   "metadata": {
    "collapsed": true
   },
   "outputs": [],
   "source": [
    "re = clf_train.reset_index(drop=True)\n",
    "\n",
    "joined = re.join(pd.Series(p,name=\"prediction\"))"
   ]
  },
  {
   "cell_type": "markdown",
   "metadata": {},
   "source": [
    "Let's use our trained model to predict values in the test set"
   ]
  },
  {
   "cell_type": "code",
   "execution_count": 43,
   "metadata": {
    "collapsed": true
   },
   "outputs": [],
   "source": [
    "testPre = text_clf.predict(clf_test.Proposal)"
   ]
  },
  {
   "cell_type": "code",
   "execution_count": 44,
   "metadata": {
    "collapsed": false
   },
   "outputs": [],
   "source": [
    "testPSeries = pd.Series(testPre,name=\"testPredict\")"
   ]
  },
  {
   "cell_type": "code",
   "execution_count": 45,
   "metadata": {
    "collapsed": true
   },
   "outputs": [],
   "source": [
    "reTest=clf_test.reset_index(drop=True)"
   ]
  },
  {
   "cell_type": "code",
   "execution_count": 46,
   "metadata": {
    "collapsed": true
   },
   "outputs": [],
   "source": [
    "joinTest = reTest.join(testPSeries)"
   ]
  },
  {
   "cell_type": "markdown",
   "metadata": {},
   "source": [
    "Hmmm those 5 below look pretty good"
   ]
  },
  {
   "cell_type": "code",
   "execution_count": 47,
   "metadata": {
    "collapsed": false
   },
   "outputs": [
    {
     "data": {
      "text/html": [
       "<div>\n",
       "<table border=\"1\" class=\"dataframe\">\n",
       "  <thead>\n",
       "    <tr style=\"text-align: right;\">\n",
       "      <th></th>\n",
       "      <th>Proposal</th>\n",
       "      <th>Bucket</th>\n",
       "      <th>testPredict</th>\n",
       "    </tr>\n",
       "  </thead>\n",
       "  <tbody>\n",
       "    <tr>\n",
       "      <th>0</th>\n",
       "      <td>Elect Director Donnie Smith</td>\n",
       "      <td>DIRECTOR</td>\n",
       "      <td>DIRECTOR</td>\n",
       "    </tr>\n",
       "    <tr>\n",
       "      <th>1</th>\n",
       "      <td>Elect Director Spencer Abraham</td>\n",
       "      <td>DIRECTOR</td>\n",
       "      <td>DIRECTOR</td>\n",
       "    </tr>\n",
       "    <tr>\n",
       "      <th>2</th>\n",
       "      <td>Advisory Vote to Ratify Named Executive Office...</td>\n",
       "      <td>SAY_ON_PAY</td>\n",
       "      <td>SAY_ON_PAY</td>\n",
       "    </tr>\n",
       "    <tr>\n",
       "      <th>3</th>\n",
       "      <td>Elect Director Donald F. Textor</td>\n",
       "      <td>DIRECTOR</td>\n",
       "      <td>DIRECTOR</td>\n",
       "    </tr>\n",
       "    <tr>\n",
       "      <th>4</th>\n",
       "      <td>Proxy Access</td>\n",
       "      <td>PROXY_ACCESS</td>\n",
       "      <td>PROXY_ACCESS</td>\n",
       "    </tr>\n",
       "  </tbody>\n",
       "</table>\n",
       "</div>"
      ],
      "text/plain": [
       "                                            Proposal        Bucket  \\\n",
       "0                        Elect Director Donnie Smith      DIRECTOR   \n",
       "1                     Elect Director Spencer Abraham      DIRECTOR   \n",
       "2  Advisory Vote to Ratify Named Executive Office...    SAY_ON_PAY   \n",
       "3                    Elect Director Donald F. Textor      DIRECTOR   \n",
       "4                                       Proxy Access  PROXY_ACCESS   \n",
       "\n",
       "    testPredict  \n",
       "0      DIRECTOR  \n",
       "1      DIRECTOR  \n",
       "2    SAY_ON_PAY  \n",
       "3      DIRECTOR  \n",
       "4  PROXY_ACCESS  "
      ]
     },
     "execution_count": 47,
     "metadata": {},
     "output_type": "execute_result"
    }
   ],
   "source": [
    "joinTest.head()"
   ]
  },
  {
   "cell_type": "markdown",
   "metadata": {},
   "source": [
    "What's the accuracy for this prediction against the test set? "
   ]
  },
  {
   "cell_type": "code",
   "execution_count": 48,
   "metadata": {
    "collapsed": false
   },
   "outputs": [
    {
     "data": {
      "text/plain": [
       "0.9871406959152799"
      ]
     },
     "execution_count": 48,
     "metadata": {},
     "output_type": "execute_result"
    }
   ],
   "source": [
    "1-len(joinTest[joinTest.Bucket!=joinTest.testPredict])*1./len(joinTest[joinTest.Bucket==joinTest.testPredict])"
   ]
  },
  {
   "cell_type": "markdown",
   "metadata": {},
   "source": [
    "That looks pretty good for a first pass...\n",
    "\n",
    "What if we do a little more and include a cross validation? \n",
    "\n",
    "We could also expand our pipeline to flow through a GridSearch to find the best parameter set.\n",
    "\n",
    "### Cross Validation: Simple KFold and GridSearch"
   ]
  },
  {
   "cell_type": "code",
   "execution_count": 49,
   "metadata": {
    "collapsed": false
   },
   "outputs": [
    {
     "name": "stdout",
     "output_type": "stream",
     "text": [
      "List of Scores:\n",
      "0.982089552239\n",
      "0.988059701493\n",
      "0.982089552239\n",
      "0.982089552239\n",
      "0.979104477612\n",
      "0.982089552239\n",
      "0.991044776119\n",
      "0.991017964072\n",
      "0.98502994012\n",
      "0.976047904192 \n",
      "Average Score:  0.983866297256\n",
      "Fitting 3 folds for each of 48 candidates, totalling 144 fits\n"
     ]
    },
    {
     "name": "stderr",
     "output_type": "stream",
     "text": [
      "/Users/kmacneneyjr/anaconda2/lib/python2.7/site-packages/sklearn/model_selection/_split.py:579: Warning: The least populated class in y has only 1 members, which is too few. The minimum number of groups for any class cannot be less than n_splits=3.\n",
      "  % (min_groups, self.n_splits)), Warning)\n",
      "[Parallel(n_jobs=-1)]: Done  42 tasks      | elapsed:    2.7s\n"
     ]
    },
    {
     "name": "stdout",
     "output_type": "stream",
     "text": [
      "Best score: 0.992\n",
      "Best parameters set:\n",
      "\tclf__alpha: 1e-05\n",
      "\tclf__loss: 'log'\n",
      "\tclf__penalty: 'l1'\n"
     ]
    },
    {
     "name": "stderr",
     "output_type": "stream",
     "text": [
      "[Parallel(n_jobs=-1)]: Done 144 out of 144 | elapsed:    7.8s finished\n"
     ]
    }
   ],
   "source": [
    "# Do a KFold validtion by splitting into multiple training and test sets and caclulate the average score\n",
    "\n",
    "k_fold = KFold(n_splits=10,shuffle = True)\n",
    "svc = SGDClassifier(loss='hinge', penalty='l2',  \n",
    "                        alpha=1e-3, n_iter=5, random_state=42)\n",
    "\n",
    "scores = cross_val_score(svc, trans, txclf.Bucket, cv=k_fold, n_jobs=-1)\n",
    "print 'List of Scores:\\n' ,\"\\n\".join(map(str,scores)), '\\nAverage Score: ', np.mean(scores)\n",
    "\n",
    "######################################\n",
    "\n",
    "''' Use GridSearch to run multiple KFold validitions on an exhaustive combination of parameters\n",
    "'''\n",
    "from sklearn.model_selection import GridSearchCV\n",
    "\n",
    "text_clf_gs = Pipeline([('vect', CountVectorizer()),\n",
    "                     ('tfidf', TfidfTransformer()),\n",
    "                     ('clf', SGDClassifier()),])\n",
    "params = {\n",
    "    'clf__loss': ('hinge','log','huber'),\n",
    "    'clf__penalty': ('none','l2','l1','elasticnet'),\n",
    "    'clf__alpha': (0.00001,0.0001,0.001,0.01)\n",
    "}\n",
    "\n",
    "gs = GridSearchCV(text_clf_gs, params, n_jobs=-1, verbose=1)\n",
    "\n",
    "gs.fit(clf_train.Proposal,clf_train.Bucket)\n",
    "\n",
    "print(\"Best score: %0.3f\" % gs.best_score_)\n",
    "print(\"Best parameters set:\")\n",
    "\n",
    "best_parameters = gs.best_estimator_.get_params()\n",
    "for param_name in sorted(params.keys()):\n",
    "    print(\"\\t%s: %r\" % (param_name, best_parameters[param_name]))"
   ]
  },
  {
   "cell_type": "markdown",
   "metadata": {},
   "source": [
    "It looks like we were able to minimally improve the results by refining the parameters"
   ]
  },
  {
   "cell_type": "markdown",
   "metadata": {},
   "source": [
    "### Visualizing the Output\n",
    "\n",
    "1. Get a view of the precision and recall\n",
    "    - Use a classification report\n",
    "    - Use a heatmap for a graphical view\n",
    "2. Graph the ROC Curve\n",
    "    - Graph the curve for each categorical bucket\n",
    "    - Which variables show the best curves? \n",
    "    - Which not so much? "
   ]
  },
  {
   "cell_type": "code",
   "execution_count": 50,
   "metadata": {
    "collapsed": false,
    "scrolled": false
   },
   "outputs": [
    {
     "name": "stdout",
     "output_type": "stream",
     "text": [
      "                               precision    recall  f1-score   support\n",
      "\n",
      "                            ?       1.00      0.17      0.29         6\n",
      "                      AUDITOR       1.00      1.00      1.00       132\n",
      "       BOARD_DECLASSIFICATION       1.00      1.00      1.00         1\n",
      "         CALL_SPECIAL_MEETING       0.00      0.00      0.00         4\n",
      "CHANGE_STATE_OF_INCORPORATION       0.00      0.00      0.00         2\n",
      "                     CLAWBACK       1.00      1.00      1.00         1\n",
      "              COMPANYWIDE_PAY       1.00      1.00      1.00         6\n",
      "                     DIRECTOR       0.99      1.00      0.99       988\n",
      "                  ENVIRONMENT       0.71      0.83      0.77         6\n",
      "                  GENERAL_PAY       1.00      1.00      1.00        41\n",
      "            INDEPENDANT_CHAIR       1.00      1.00      1.00        13\n",
      "              MAJORITY_VOTING       1.00      1.00      1.00         1\n",
      "            NONDESCRIMINATION       0.00      0.00      0.00         1\n",
      "                        OTHER       0.00      0.00      0.00         1\n",
      "           POLITICAL_SPENDING       0.86      0.92      0.89        13\n",
      "                 PROXY_ACCESS       1.00      1.00      1.00        15\n",
      "                   SAY_ON_PAY       1.00      1.00      1.00       104\n",
      "              STOCK_RETENTION       1.00      1.00      1.00         2\n",
      "                      TRUSTEE       0.00      0.00      0.00         2\n",
      "\n",
      "                  avg / total       0.98      0.99      0.98      1339\n",
      "\n"
     ]
    },
    {
     "name": "stderr",
     "output_type": "stream",
     "text": [
      "/Users/kmacneneyjr/anaconda2/lib/python2.7/site-packages/sklearn/metrics/classification.py:1113: UndefinedMetricWarning: Precision and F-score are ill-defined and being set to 0.0 in labels with no predicted samples.\n",
      "  'precision', 'predicted', average, warn_for)\n"
     ]
    },
    {
     "data": {
      "image/png": "[encoded data removed]",
      "text/plain": [
       "<matplotlib.figure.Figure at 0x11393c650>"
      ]
     },
     "metadata": {},
     "output_type": "display_data"
    }
   ],
   "source": [
    "from sklearn.metrics import confusion_matrix, classification_report\n",
    "\n",
    "# print confusion_matrix(joinTest.Bucket,joinTest.testPredict)\n",
    "print classification_report(joinTest.Bucket,joinTest.testPredict)\n",
    "sns.heatmap(pd.crosstab(joinTest.Bucket,joinTest.testPredict));"
   ]
  },
  {
   "cell_type": "code",
   "execution_count": 96,
   "metadata": {
    "collapsed": false
   },
   "outputs": [
    {
     "data": {
      "image/png": "[encoded data removed]",
      "text/plain": [
       "<matplotlib.figure.Figure at 0x114a51350>"
      ]
     },
     "metadata": {},
     "output_type": "display_data"
    }
   ],
   "source": [
    "from sklearn.metrics import roc_curve\n",
    "\n",
    "for i in joinTest.Bucket.unique():\n",
    "    curve = roc_curve(joinTest.Bucket,joinTest.testPredict.apply(lambda x: 1 if x == i else 0),pos_label=i)\n",
    "    plt.plot(curve[0],curve[1],label=i)\n",
    "    plt.legend(loc='lower right')"
   ]
  },
  {
   "cell_type": "markdown",
   "metadata": {},
   "source": [
    "### How did we do? \n",
    "\n",
    "Well, it looks like we did really well for certain variables and not so well for others. \n",
    "Generally, buckets with low volume performed poorly while those with higher volumes had great curves. Looks like we will need more data in order to accurately predict this less frequent proposal types"
   ]
  },
  {
   "cell_type": "code",
   "execution_count": 52,
   "metadata": {
    "collapsed": false
   },
   "outputs": [
    {
     "data": {
      "text/html": [
       "<div>\n",
       "<table border=\"1\" class=\"dataframe\">\n",
       "  <thead>\n",
       "    <tr style=\"text-align: right;\">\n",
       "      <th></th>\n",
       "      <th>Proposal</th>\n",
       "      <th>Bucket</th>\n",
       "      <th>testPredict</th>\n",
       "    </tr>\n",
       "  </thead>\n",
       "  <tbody>\n",
       "    <tr>\n",
       "      <th>0</th>\n",
       "      <td>Elect Director Donnie Smith</td>\n",
       "      <td>DIRECTOR</td>\n",
       "      <td>DIRECTOR</td>\n",
       "    </tr>\n",
       "    <tr>\n",
       "      <th>1</th>\n",
       "      <td>Elect Director Spencer Abraham</td>\n",
       "      <td>DIRECTOR</td>\n",
       "      <td>DIRECTOR</td>\n",
       "    </tr>\n",
       "    <tr>\n",
       "      <th>2</th>\n",
       "      <td>Advisory Vote to Ratify Named Executive Office...</td>\n",
       "      <td>SAY_ON_PAY</td>\n",
       "      <td>SAY_ON_PAY</td>\n",
       "    </tr>\n",
       "    <tr>\n",
       "      <th>3</th>\n",
       "      <td>Elect Director Donald F. Textor</td>\n",
       "      <td>DIRECTOR</td>\n",
       "      <td>DIRECTOR</td>\n",
       "    </tr>\n",
       "    <tr>\n",
       "      <th>4</th>\n",
       "      <td>Proxy Access</td>\n",
       "      <td>PROXY_ACCESS</td>\n",
       "      <td>PROXY_ACCESS</td>\n",
       "    </tr>\n",
       "  </tbody>\n",
       "</table>\n",
       "</div>"
      ],
      "text/plain": [
       "                                            Proposal        Bucket  \\\n",
       "0                        Elect Director Donnie Smith      DIRECTOR   \n",
       "1                     Elect Director Spencer Abraham      DIRECTOR   \n",
       "2  Advisory Vote to Ratify Named Executive Office...    SAY_ON_PAY   \n",
       "3                    Elect Director Donald F. Textor      DIRECTOR   \n",
       "4                                       Proxy Access  PROXY_ACCESS   \n",
       "\n",
       "    testPredict  \n",
       "0      DIRECTOR  \n",
       "1      DIRECTOR  \n",
       "2    SAY_ON_PAY  \n",
       "3      DIRECTOR  \n",
       "4  PROXY_ACCESS  "
      ]
     },
     "execution_count": 52,
     "metadata": {},
     "output_type": "execute_result"
    }
   ],
   "source": [
    "joinTest.head()"
   ]
  },
  {
   "cell_type": "code",
   "execution_count": 79,
   "metadata": {
    "collapsed": true
   },
   "outputs": [],
   "source": [
    "text_clf_f = Pipeline([('vect', CountVectorizer()),\n",
    "                     ('tfidf', TfidfTransformer()),\n",
    "                     ('clf', SGDClassifier(loss='hinge', penalty='l2',  \n",
    "                        alpha=1e-5, n_iter=5, random_state=42)),])"
   ]
  },
  {
   "cell_type": "code",
   "execution_count": 80,
   "metadata": {
    "collapsed": false
   },
   "outputs": [
    {
     "data": {
      "text/plain": [
       "Pipeline(steps=[('vect', CountVectorizer(analyzer=u'word', binary=False, decode_error=u'strict',\n",
       "        dtype=<type 'numpy.int64'>, encoding=u'utf-8', input=u'content',\n",
       "        lowercase=True, max_df=1.0, max_features=None, min_df=1,\n",
       "        ngram_range=(1, 1), preprocessor=None, stop_words=None,\n",
       "        st...     penalty='l2', power_t=0.5, random_state=42, shuffle=True, verbose=0,\n",
       "       warm_start=False))])"
      ]
     },
     "execution_count": 80,
     "metadata": {},
     "output_type": "execute_result"
    }
   ],
   "source": [
    "text_clf_f.fit(clf_train.Proposal,clf_train.Bucket)"
   ]
  },
  {
   "cell_type": "code",
   "execution_count": 81,
   "metadata": {
    "collapsed": true
   },
   "outputs": [],
   "source": [
    "p_final =text_clf.predict(clf_train.Proposal)"
   ]
  },
  {
   "cell_type": "code",
   "execution_count": 82,
   "metadata": {
    "collapsed": false
   },
   "outputs": [
    {
     "data": {
      "text/plain": [
       "2008"
      ]
     },
     "execution_count": 82,
     "metadata": {},
     "output_type": "execute_result"
    }
   ],
   "source": [
    "len(p_final)"
   ]
  },
  {
   "cell_type": "code",
   "execution_count": 83,
   "metadata": {
    "collapsed": true
   },
   "outputs": [],
   "source": [
    "re = clf_train.reset_index(drop=True)\n",
    "\n",
    "joined = re.join(pd.Series(p,name=\"prediction\"))\n",
    "testPre = text_clf_f.predict(clf_test.Proposal)\n",
    "testPSeries = pd.Series(testPre,name=\"testPredict\",index=clf_test.index)\n",
    "reTest=clf_test\n",
    "finalJoin = reTest.join(testPSeries)"
   ]
  },
  {
   "cell_type": "code",
   "execution_count": 84,
   "metadata": {
    "collapsed": false
   },
   "outputs": [
    {
     "data": {
      "text/plain": [
       "1332"
      ]
     },
     "execution_count": 84,
     "metadata": {},
     "output_type": "execute_result"
    }
   ],
   "source": [
    "len(finalJoin[finalJoin['Bucket']==finalJoin['testPredict']])"
   ]
  },
  {
   "cell_type": "code",
   "execution_count": 85,
   "metadata": {
    "collapsed": false
   },
   "outputs": [
    {
     "name": "stdout",
     "output_type": "stream",
     "text": [
      "                               precision    recall  f1-score   support\n",
      "\n",
      "                            ?       1.00      0.67      0.80         6\n",
      "                      AUDITOR       1.00      1.00      1.00       132\n",
      "       BOARD_DECLASSIFICATION       1.00      1.00      1.00         1\n",
      "              BOARD_STRUCTURE       0.00      0.00      0.00         0\n",
      "         CALL_SPECIAL_MEETING       0.80      1.00      0.89         4\n",
      "CHANGE_STATE_OF_INCORPORATION       0.00      0.00      0.00         2\n",
      "                     CLAWBACK       1.00      1.00      1.00         1\n",
      "              COMPANYWIDE_PAY       1.00      1.00      1.00         6\n",
      "                     DIRECTOR       1.00      1.00      1.00       988\n",
      "                  ENVIRONMENT       0.67      1.00      0.80         6\n",
      "                  GENERAL_PAY       1.00      1.00      1.00        41\n",
      "            INDEPENDANT_CHAIR       1.00      1.00      1.00        13\n",
      "              MAJORITY_VOTING       1.00      1.00      1.00         1\n",
      "            NONDESCRIMINATION       0.00      0.00      0.00         1\n",
      "                        OTHER       0.00      0.00      0.00         1\n",
      "           POLITICAL_SPENDING       0.93      1.00      0.96        13\n",
      "                 PROXY_ACCESS       1.00      1.00      1.00        15\n",
      "                   SAY_ON_PAY       1.00      1.00      1.00       104\n",
      "              STOCK_RETENTION       1.00      1.00      1.00         2\n",
      "                      TRUSTEE       0.67      1.00      0.80         2\n",
      "\n",
      "                  avg / total       0.99      0.99      0.99      1339\n",
      "\n"
     ]
    },
    {
     "name": "stderr",
     "output_type": "stream",
     "text": [
      "/Users/kmacneneyjr/anaconda2/lib/python2.7/site-packages/sklearn/metrics/classification.py:1115: UndefinedMetricWarning: Recall and F-score are ill-defined and being set to 0.0 in labels with no true samples.\n",
      "  'recall', 'true', average, warn_for)\n"
     ]
    }
   ],
   "source": [
    "print classification_report(finalJoin.Bucket,finalJoin.testPredict)"
   ]
  },
  {
   "cell_type": "code",
   "execution_count": 86,
   "metadata": {
    "collapsed": false
   },
   "outputs": [
    {
     "data": {
      "image/png": "[encoded data removed]",
      "text/plain": [
       "<matplotlib.figure.Figure at 0x1150dd4d0>"
      ]
     },
     "metadata": {},
     "output_type": "display_data"
    }
   ],
   "source": [
    "for i in joinTest.Bucket.unique():\n",
    "    curve = roc_curve(finalJoin.Bucket,finalJoin.testPredict.apply(lambda x: 1 if x == i else 0),pos_label=i)\n",
    "    plt.plot(curve[0],curve[1],label=i)\n",
    "    plt.legend(loc='lower right')"
   ]
  },
  {
   "cell_type": "code",
   "execution_count": 98,
   "metadata": {
    "collapsed": false
   },
   "outputs": [
    {
     "data": {
      "text/plain": [
       "Index([u'Asset Manager', u'Company', u'Year', u'Ticker', u'Meeting Date',\n",
       "       u'Meeting Type', u'Security ID', u'# Management Proposals', u'Proposal',\n",
       "       u'Bucket', u'Mgt Rec', u'Vote', u'TICKER', u'NAME',\n",
       "       u'CNTRY_OF_DOMICILE', u'flag', u'Dissident Proxy (Blue Card)',\n",
       "       u'Management Proposal', u'Management proposals',\n",
       "       u'Shareholder proposals', u'MGT_Against', u'MGT_For', u'MGT_None',\n",
       "       u'VOTE_Against', u'VOTE_Did Not Vote', u'VOTE_For', u'VOTE_Withhold'],\n",
       "      dtype='object')"
      ]
     },
     "execution_count": 98,
     "metadata": {},
     "output_type": "execute_result"
    }
   ],
   "source": [
    "train.columns"
   ]
  },
  {
   "cell_type": "code",
   "execution_count": 107,
   "metadata": {
    "collapsed": false
   },
   "outputs": [
    {
     "name": "stderr",
     "output_type": "stream",
     "text": [
      "/Users/kmacneneyjr/anaconda2/lib/python2.7/site-packages/ipykernel/__main__.py:13: SettingWithCopyWarning: \n",
      "A value is trying to be set on a copy of a slice from a DataFrame.\n",
      "Try using .loc[row_indexer,col_indexer] = value instead\n",
      "\n",
      "See the caveats in the documentation: http://pandas.pydata.org/pandas-docs/stable/indexing.html#indexing-view-versus-copy\n"
     ]
    }
   ],
   "source": [
    "from sklearn.linear_model import LogisticRegression\n",
    "\n",
    "logreg = LogisticRegression()\n",
    "cols = ['MGT_Against','MGT_None','Shareholder proposals']\n",
    "\n",
    "\n",
    "train_set, test_set = train_test_split(train,test_size=0.4)\n",
    "x = train_set[cols]\n",
    "y = train_set['VOTE_For']\n",
    "logreg.fit(x,y)\n",
    "\n",
    "logP= logreg.predict(test_set[cols])\n",
    "test_set['predict']=logP\n",
    "test_set.head()\n",
    "calcs = test_set[['VOTE_For','predict']]"
   ]
  },
  {
   "cell_type": "code",
   "execution_count": 109,
   "metadata": {
    "collapsed": false
   },
   "outputs": [
    {
     "data": {
      "text/plain": [
       "0.9088872292755787"
      ]
     },
     "execution_count": 109,
     "metadata": {},
     "output_type": "execute_result"
    }
   ],
   "source": [
    "len(calcs[calcs['VOTE_For']==calcs['predict']])*1./len(calcs)"
   ]
  },
  {
   "cell_type": "code",
   "execution_count": 111,
   "metadata": {
    "collapsed": false
   },
   "outputs": [
    {
     "name": "stdout",
     "output_type": "stream",
     "text": [
      "Warning: Maximum number of iterations has been exceeded.\n",
      "         Current function value: 0.670047\n",
      "         Iterations: 35\n"
     ]
    },
    {
     "name": "stderr",
     "output_type": "stream",
     "text": [
      "/Users/kmacneneyjr/anaconda2/lib/python2.7/site-packages/statsmodels/base/model.py:466: ConvergenceWarning: Maximum Likelihood optimization failed to converge. Check mle_retvals\n",
      "  \"Check mle_retvals\", ConvergenceWarning)\n"
     ]
    },
    {
     "data": {
      "text/html": [
       "<table class=\"simpletable\">\n",
       "<caption>Logit Regression Results</caption>\n",
       "<tr>\n",
       "  <th>Dep. Variable:</th>     <td>VOTE_For</td>     <th>  No. Observations:  </th>  <td>  2008</td> \n",
       "</tr>\n",
       "<tr>\n",
       "  <th>Model:</th>               <td>Logit</td>      <th>  Df Residuals:      </th>  <td>  2005</td> \n",
       "</tr>\n",
       "<tr>\n",
       "  <th>Method:</th>               <td>MLE</td>       <th>  Df Model:          </th>  <td>     2</td> \n",
       "</tr>\n",
       "<tr>\n",
       "  <th>Date:</th>          <td>Mon, 28 Nov 2016</td> <th>  Pseudo R-squ.:     </th>  <td>-6.520</td> \n",
       "</tr>\n",
       "<tr>\n",
       "  <th>Time:</th>              <td>22:36:46</td>     <th>  Log-Likelihood:    </th> <td> -1345.5</td>\n",
       "</tr>\n",
       "<tr>\n",
       "  <th>converged:</th>           <td>False</td>      <th>  LL-Null:           </th> <td> -178.91</td>\n",
       "</tr>\n",
       "<tr>\n",
       "  <th> </th>                      <td> </td>        <th>  LLR p-value:       </th>  <td> 1.000</td> \n",
       "</tr>\n",
       "</table>\n",
       "<table class=\"simpletable\">\n",
       "<tr>\n",
       "            <td></td>               <th>coef</th>     <th>std err</th>      <th>z</th>      <th>P>|z|</th> <th>[95.0% Conf. Int.]</th> \n",
       "</tr>\n",
       "<tr>\n",
       "  <th>MGT_Against</th>           <td>    1.2736</td> <td>    0.880</td> <td>    1.447</td> <td> 0.148</td> <td>   -0.452     2.999</td>\n",
       "</tr>\n",
       "<tr>\n",
       "  <th>MGT_None</th>              <td>   18.2738</td> <td> 6570.334</td> <td>    0.003</td> <td> 0.998</td> <td>-1.29e+04  1.29e+04</td>\n",
       "</tr>\n",
       "<tr>\n",
       "  <th>Shareholder proposals</th> <td>    0.2260</td> <td>    0.844</td> <td>    0.268</td> <td> 0.789</td> <td>   -1.429     1.881</td>\n",
       "</tr>\n",
       "</table>"
      ],
      "text/plain": [
       "<class 'statsmodels.iolib.summary.Summary'>\n",
       "\"\"\"\n",
       "                           Logit Regression Results                           \n",
       "==============================================================================\n",
       "Dep. Variable:               VOTE_For   No. Observations:                 2008\n",
       "Model:                          Logit   Df Residuals:                     2005\n",
       "Method:                           MLE   Df Model:                            2\n",
       "Date:                Mon, 28 Nov 2016   Pseudo R-squ.:                  -6.520\n",
       "Time:                        22:36:46   Log-Likelihood:                -1345.5\n",
       "converged:                      False   LL-Null:                       -178.91\n",
       "                                        LLR p-value:                     1.000\n",
       "=========================================================================================\n",
       "                            coef    std err          z      P>|z|      [95.0% Conf. Int.]\n",
       "-----------------------------------------------------------------------------------------\n",
       "MGT_Against               1.2736      0.880      1.447      0.148        -0.452     2.999\n",
       "MGT_None                 18.2738   6570.334      0.003      0.998     -1.29e+04  1.29e+04\n",
       "Shareholder proposals     0.2260      0.844      0.268      0.789        -1.429     1.881\n",
       "=========================================================================================\n",
       "\"\"\""
      ]
     },
     "execution_count": 111,
     "metadata": {},
     "output_type": "execute_result"
    }
   ],
   "source": [
    "import statsmodels.api as sm\n",
    "\n",
    "logit = sm.Logit(train_set['VOTE_For'],train_set[cols])\n",
    "result = logit.fit()\n",
    "result.summary()"
   ]
  },
  {
   "cell_type": "code",
   "execution_count": 112,
   "metadata": {
    "collapsed": false
   },
   "outputs": [
    {
     "data": {
      "text/html": [
       "<div>\n",
       "<table border=\"1\" class=\"dataframe\">\n",
       "  <thead>\n",
       "    <tr style=\"text-align: right;\">\n",
       "      <th>MGT_For</th>\n",
       "      <th>0</th>\n",
       "      <th>1</th>\n",
       "    </tr>\n",
       "    <tr>\n",
       "      <th>VOTE_For</th>\n",
       "      <th></th>\n",
       "      <th></th>\n",
       "    </tr>\n",
       "  </thead>\n",
       "  <tbody>\n",
       "    <tr>\n",
       "      <th>0</th>\n",
       "      <td>15</td>\n",
       "      <td>173</td>\n",
       "    </tr>\n",
       "    <tr>\n",
       "      <th>1</th>\n",
       "      <td>69</td>\n",
       "      <td>1751</td>\n",
       "    </tr>\n",
       "  </tbody>\n",
       "</table>\n",
       "</div>"
      ],
      "text/plain": [
       "MGT_For    0     1\n",
       "VOTE_For          \n",
       "0         15   173\n",
       "1         69  1751"
      ]
     },
     "execution_count": 112,
     "metadata": {},
     "output_type": "execute_result"
    }
   ],
   "source": [
    "pd.crosstab(train_set['VOTE_For'],train_set['MGT_For'])"
   ]
  },
  {
   "cell_type": "code",
   "execution_count": null,
   "metadata": {
    "collapsed": true
   },
   "outputs": [],
   "source": []
  }
 ],
 "metadata": {
  "anaconda-cloud": {},
  "kernelspec": {
   "display_name": "Python [default]",
   "language": "python",
   "name": "python2"
  },
  "language_info": {
   "codemirror_mode": {
    "name": "ipython",
    "version": 2
   },
   "file_extension": ".py",
   "mimetype": "text/x-python",
   "name": "python",
   "nbconvert_exporter": "python",
   "pygments_lexer": "ipython2",
   "version": "2.7.12"
  }
 },
 "nbformat": 4,
 "nbformat_minor": 1
}
